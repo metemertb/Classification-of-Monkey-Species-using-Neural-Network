{
 "cells": [
  {
   "cell_type": "markdown",
   "id": "romance-exemption",
   "metadata": {},
   "source": [
    "# Classification of Monkey Species using Neural Network"
   ]
  },
  {
   "cell_type": "code",
   "execution_count": 1,
   "id": "desperate-promise",
   "metadata": {},
   "outputs": [],
   "source": [
    "import pandas as pd\n",
    "import numpy as np\n",
    "import os\n",
    "import cv2 as cv\n",
    "import matplotlib\n",
    "import matplotlib.pyplot as plt\n",
    "import seaborn as sns\n",
    "import torch.nn.functional as F\n",
    "import glob\n",
    "import time\n",
    "import warnings\n",
    "from sklearn.datasets import make_moons\n",
    "from sklearn.model_selection import train_test_split\n",
    "from PIL import Image\n",
    "from tensorflow.keras.models import Sequential\n",
    "from tensorflow.keras.layers import Conv2D, MaxPool2D, BatchNormalization\n",
    "from tensorflow.keras.layers import Activation, Dropout, Flatten, Dense\n",
    "from tensorflow.keras.losses import categorical_crossentropy\n",
    "from tensorflow.keras.losses import binary_crossentropy\n",
    "from tensorflow.keras.optimizers import Adam\n",
    "from tensorflow.keras.callbacks import ModelCheckpoint\n",
    "from tensorflow.keras.models import load_model\n",
    "warnings.filterwarnings('ignore')\n",
    "os.environ['KMP_DUPLICATE_LIB_OK']='True'"
   ]
  },
  {
   "cell_type": "markdown",
   "id": "forbidden-morocco",
   "metadata": {},
   "source": [
    "## Image Processing"
   ]
  },
  {
   "cell_type": "code",
   "execution_count": 2,
   "id": "sustained-clock",
   "metadata": {},
   "outputs": [],
   "source": [
    "def image_read(folder):\n",
    "    data = []\n",
    "    for i in range(0,10,1):\n",
    "        for filename in glob.glob(folder + \"/n{}/*.JPG\".format(i)):\n",
    "            im = Image.open(filename)\n",
    "            im = im.resize((8, 8))\n",
    "            pixels = np.asarray(im)\n",
    "            pixels = pixels.astype('float32')\n",
    "            pixels /= 255\n",
    "            data.append((pixels, i))\n",
    "    return data"
   ]
  },
  {
   "cell_type": "code",
   "execution_count": 3,
   "id": "opposed-joseph",
   "metadata": {},
   "outputs": [],
   "source": [
    "data = image_read('training/training/')"
   ]
  },
  {
   "cell_type": "code",
   "execution_count": 4,
   "id": "considered-outline",
   "metadata": {},
   "outputs": [],
   "source": [
    "labels = {0:\"Mantled Howler\", 1:\"Patas Monkey\", 2:\"Bald Uakari\", 3:\"Japanese Macaque\",\n",
    "             4:\"Pygmy Marmoset\", 5:\"White Headed Capuchin\", 6:\"Silvery Marmoset\", 7:\"Common Squirrel Monkey\",\n",
    "             8:\"Black Headed Night Monkey\", 9:\"Nilgiri Langur\"}"
   ]
  },
  {
   "cell_type": "code",
   "execution_count": 5,
   "id": "dying-benjamin",
   "metadata": {},
   "outputs": [
    {
     "data": {
      "text/html": [
       "<div>\n",
       "<style scoped>\n",
       "    .dataframe tbody tr th:only-of-type {\n",
       "        vertical-align: middle;\n",
       "    }\n",
       "\n",
       "    .dataframe tbody tr th {\n",
       "        vertical-align: top;\n",
       "    }\n",
       "\n",
       "    .dataframe thead th {\n",
       "        text-align: right;\n",
       "    }\n",
       "</style>\n",
       "<table border=\"1\" class=\"dataframe\">\n",
       "  <thead>\n",
       "    <tr style=\"text-align: right;\">\n",
       "      <th></th>\n",
       "      <th>Images</th>\n",
       "      <th>Species</th>\n",
       "    </tr>\n",
       "  </thead>\n",
       "  <tbody>\n",
       "    <tr>\n",
       "      <th>0</th>\n",
       "      <td>[[[0.52156866, 0.5176471, 0.3137255], [0.77647...</td>\n",
       "      <td>0</td>\n",
       "    </tr>\n",
       "    <tr>\n",
       "      <th>1</th>\n",
       "      <td>[[[0.48235294, 0.5254902, 0.26666668], [0.2901...</td>\n",
       "      <td>0</td>\n",
       "    </tr>\n",
       "    <tr>\n",
       "      <th>2</th>\n",
       "      <td>[[[0.6784314, 0.75686276, 0.43137255], [0.6509...</td>\n",
       "      <td>0</td>\n",
       "    </tr>\n",
       "    <tr>\n",
       "      <th>3</th>\n",
       "      <td>[[[0.67058825, 0.7882353, 0.5882353], [0.73333...</td>\n",
       "      <td>0</td>\n",
       "    </tr>\n",
       "    <tr>\n",
       "      <th>4</th>\n",
       "      <td>[[[0.60784316, 0.7058824, 0.44705883], [0.6745...</td>\n",
       "      <td>0</td>\n",
       "    </tr>\n",
       "  </tbody>\n",
       "</table>\n",
       "</div>"
      ],
      "text/plain": [
       "                                              Images  Species\n",
       "0  [[[0.52156866, 0.5176471, 0.3137255], [0.77647...        0\n",
       "1  [[[0.48235294, 0.5254902, 0.26666668], [0.2901...        0\n",
       "2  [[[0.6784314, 0.75686276, 0.43137255], [0.6509...        0\n",
       "3  [[[0.67058825, 0.7882353, 0.5882353], [0.73333...        0\n",
       "4  [[[0.60784316, 0.7058824, 0.44705883], [0.6745...        0"
      ]
     },
     "execution_count": 5,
     "metadata": {},
     "output_type": "execute_result"
    }
   ],
   "source": [
    "image_list = []\n",
    "label_list = []\n",
    "for i in range(0,len(data)):\n",
    "    img,label = data[i]\n",
    "    image_list.append(img)\n",
    "    label_list.append(label)\n",
    "df = pd.DataFrame( {'Images': image_list, 'Species': label_list})\n",
    "df.head()"
   ]
  },
  {
   "cell_type": "code",
   "execution_count": 6,
   "id": "cheap-anger",
   "metadata": {},
   "outputs": [
    {
     "data": {
      "text/plain": [
       "3    122\n",
       "7    114\n",
       "5    113\n",
       "1    111\n",
       "2    110\n",
       "6    106\n",
       "8    106\n",
       "0    105\n",
       "4    105\n",
       "9    105\n",
       "Name: Species, dtype: int64"
      ]
     },
     "execution_count": 6,
     "metadata": {},
     "output_type": "execute_result"
    }
   ],
   "source": [
    "df['Species'].value_counts()"
   ]
  },
  {
   "cell_type": "code",
   "execution_count": 7,
   "id": "boring-building",
   "metadata": {},
   "outputs": [],
   "source": [
    "X = image_list\n",
    "y = label_list"
   ]
  },
  {
   "cell_type": "code",
   "execution_count": 8,
   "id": "quality-perspective",
   "metadata": {},
   "outputs": [],
   "source": [
    "for i in range(0,len(image_list)):\n",
    "    image_list[i] = image_list[i].reshape(192,)"
   ]
  },
  {
   "cell_type": "code",
   "execution_count": 9,
   "id": "supposed-farming",
   "metadata": {},
   "outputs": [],
   "source": [
    "X_train, X_test, y_train, y_test = train_test_split(X, y, test_size = 0.1, random_state = 1)"
   ]
  },
  {
   "cell_type": "code",
   "execution_count": 10,
   "id": "declared-script",
   "metadata": {},
   "outputs": [],
   "source": [
    "X_train = np.array(X_train)\n",
    "X_test = np.array(X_test)\n",
    "y_train = np.array(y_train)\n",
    "y_test = np.array(y_test)"
   ]
  },
  {
   "cell_type": "markdown",
   "id": "brutal-wholesale",
   "metadata": {},
   "source": [
    "# Multi Layer Neural Network "
   ]
  },
  {
   "cell_type": "code",
   "execution_count": 11,
   "id": "thermal-hungarian",
   "metadata": {},
   "outputs": [],
   "source": [
    "def sigmoid(x):\n",
    "    return 1./(1.+ np.exp(-x))\n",
    "\n",
    "def softmax(x):\n",
    "    return np.exp(x)/np.exp(x).sum(axis=1,keepdims=True)\n",
    "\n",
    "def loss(y_predict,y):\n",
    "    return ((-np.log(y_predict))*y).sum(axis=1).mean()"
   ]
  },
  {
   "cell_type": "code",
   "execution_count": 12,
   "id": "animal-utility",
   "metadata": {},
   "outputs": [],
   "source": [
    "class MLP():\n",
    "    \n",
    "    def __init__(self,X,Y,X_test,Y_test,L=1,NL=128):\n",
    "        self.X = np.concatenate((X,np.ones((X.shape[0],1))),axis=1)\n",
    "        self.Y = np.squeeze(np.eye(10)[Y.astype(np.int).reshape(-1)])\n",
    "        self.X_test = np.concatenate((X_test,np.ones((X_test.shape[0],1))),axis=1)\n",
    "        self.Y_test = np.squeeze(np.eye(10)[Y_test.astype(np.int).reshape(-1)])\n",
    "        self.L = L\n",
    "        self.NL = NL\n",
    "        self.n_values = self.X.shape[0]\n",
    "        layer_r = self.X.shape[1]\n",
    "        layer_c = self.Y.shape[1]\n",
    "        self.layer_sizes =np.array([layer_r] + [NL] * L + [layer_c]) \n",
    "        self.__init_weights()\n",
    "        \n",
    "    \n",
    "    def __to_categorical(self,X):  \n",
    "        shapeX = X.shape[0]\n",
    "        categorical = np.zeros((shapeX,self.Y.shape[1]))\n",
    "        cat_const = np.arange(shapeX),X.argmax(axis=1)\n",
    "        categorical[cat_const] = 1\n",
    "        return categorical\n",
    "    \n",
    "    def __init_weights(self):\n",
    "        self.weights = []\n",
    "        for i in range(self.layer_sizes.shape[0]-1):\n",
    "            self.weights.append(np.random.uniform(-1,1,size=[self.layer_sizes[i],self.layer_sizes[i+1]]))\n",
    "        self.weights = np.asarray(self.weights)\n",
    "    \n",
    "    def __init_layers(self,batch_size):\n",
    "        self.__h = [np.empty((batch_size,layer)) for layer in self.layer_sizes]\n",
    "    \n",
    "    def __forwardProp(self,batch):\n",
    "        h_l = batch\n",
    "        self.__h[0] = h_l\n",
    "        for i,weights in enumerate(self.weights):\n",
    "            h_l = sigmoid(h_l.dot(weights))\n",
    "            self.__h[i+1]=h_l\n",
    "        self.__out = softmax(self.__h[-1])\n",
    "    \n",
    "    def __backProp(self,batch_y):\n",
    "        h = self.__h\n",
    "        delta = (self.__out - batch_y)*((h[-1])*(1-h[-1]))\n",
    "        for i in range(1,len(self.weights)+1):\n",
    "            self.weights[-i]-=self.lr*(h[-i-1].T.dot(delta))/self.batch_size\n",
    "            delta = ((h[-i-1])* (1-h[-i-1]))*(delta.dot(self.weights[-i].T))\n",
    "            \n",
    "    def predict(self,X):\n",
    "        shape = X.shape[0]\n",
    "        X = np.concatenate((X,np.ones((shape,1))),axis=1)\n",
    "        self.__init_layers(shape)\n",
    "        self.__forwardProp(X)\n",
    "        return self.__to_categorical(self.__out)\n",
    "        \n",
    "    def train(self,batch_size,epochs,lr):\n",
    "        self.lr = lr\n",
    "        self.batch_size=batch_size\n",
    "        for epoch in range(0,epochs):\n",
    "            self.__init_layers(self.batch_size)\n",
    "            shuffled = np.random.permutation(self.n_values)\n",
    "            batchX = np.array_split(self.X[shuffled],self.n_values/self.batch_size)\n",
    "            batchY = np.array_split(self.Y[shuffled],self.n_values/self.batch_size)\n",
    "            for batch_x,batch_y in zip(batchX,batchY):\n",
    "                self.__forwardProp(batch_x)  \n",
    "                self.__backProp(batch_y)\n",
    "            self.__init_layers(self.X_test.shape[0])\n",
    "            self.__forwardProp(self.X_test)"
   ]
  },
  {
   "cell_type": "code",
   "execution_count": 13,
   "id": "biological-helen",
   "metadata": {},
   "outputs": [],
   "source": [
    "def accuracy(y_test , pred):\n",
    "    counter = 0\n",
    "    for i in range(0,len(y_test)):\n",
    "        if y_test[i] == pred[i]:\n",
    "            counter = counter + 1\n",
    "    acc = counter / len(pred)\n",
    "    return acc*100"
   ]
  },
  {
   "cell_type": "code",
   "execution_count": 14,
   "id": "northern-audience",
   "metadata": {},
   "outputs": [],
   "source": [
    "model1 = MLP(X_train,y_train,X_test,y_test,L=2,NL=128)\n",
    "model1.train(batch_size=32,epochs=50,lr=0.02)\n",
    "predict1 = model1.predict(X_test)"
   ]
  },
  {
   "cell_type": "code",
   "execution_count": 15,
   "id": "complimentary-sense",
   "metadata": {},
   "outputs": [
    {
     "name": "stdout",
     "output_type": "stream",
     "text": [
      "Model accuracy is % 7.27\n"
     ]
    }
   ],
   "source": [
    "predictions1 = []\n",
    "y_tests1 = []\n",
    "for i in range(0,len(predict1)):\n",
    "    for j in range(0,10):\n",
    "        if predict1[i][j] == 1:\n",
    "            predictions1.append(j)\n",
    "for i in range(0,len(y_test)):\n",
    "    y_tests1.append(y_test[i])\n",
    "accuracy1 = accuracy(y_tests1,predictions1)\n",
    "print(\"Model accuracy is %\", \"{:.2f}\".format(accuracy1))"
   ]
  },
  {
   "cell_type": "code",
   "execution_count": 16,
   "id": "processed-shannon",
   "metadata": {},
   "outputs": [],
   "source": [
    "model2 = MLP(X_train,y_train,X_test,y_test,L=2,NL=128) #changing the batch size to 128\n",
    "model2.train(batch_size=128,epochs=50,lr=0.02)\n",
    "predict2 = model2.predict(X_test)"
   ]
  },
  {
   "cell_type": "code",
   "execution_count": 17,
   "id": "boring-advancement",
   "metadata": {},
   "outputs": [
    {
     "name": "stdout",
     "output_type": "stream",
     "text": [
      "Model accuracy is % 13.64\n"
     ]
    }
   ],
   "source": [
    "predictions2 = []\n",
    "y_tests2 = []\n",
    "for i in range(0,len(predict2)):\n",
    "    for j in range(0,10):\n",
    "        if predict2[i][j] == 1:\n",
    "            predictions2.append(j)\n",
    "for i in range(0,len(y_test)):\n",
    "    y_tests2.append(y_test[i])\n",
    "accuracy2 = accuracy(y_tests2,predictions2)\n",
    "print(\"Model accuracy is %\", \"{:.2f}\".format(accuracy2))"
   ]
  },
  {
   "cell_type": "code",
   "execution_count": 18,
   "id": "funded-patio",
   "metadata": {},
   "outputs": [],
   "source": [
    "model3 = MLP(X_train,y_train,X_test,y_test,L=2,NL=128) #changing the epoch to 100\n",
    "model3.train(batch_size=64,epochs=100,lr=0.02)\n",
    "predict3 = model3.predict(X_test)"
   ]
  },
  {
   "cell_type": "code",
   "execution_count": 19,
   "id": "according-regression",
   "metadata": {},
   "outputs": [
    {
     "name": "stdout",
     "output_type": "stream",
     "text": [
      "Model accuracy is % 21.82\n"
     ]
    }
   ],
   "source": [
    "predictions3 = []\n",
    "y_tests3 = []\n",
    "for i in range(0,len(predict3)):\n",
    "    for j in range(0,10):\n",
    "        if predict3[i][j] == 1:\n",
    "            predictions3.append(j)\n",
    "for i in range(0,len(y_test)):\n",
    "    y_tests3.append(y_test[i])\n",
    "accuracy3 = accuracy(y_tests3,predictions3)\n",
    "print(\"Model accuracy is %\", \"{:.2f}\".format(accuracy3))"
   ]
  },
  {
   "cell_type": "code",
   "execution_count": 20,
   "id": "conventional-walter",
   "metadata": {},
   "outputs": [],
   "source": [
    "model4 = MLP(X_train,y_train,X_test,y_test,L=3,NL=128) #changing the layer number to 3\n",
    "model4.train(batch_size=64,epochs=50,lr=0.02)\n",
    "predict4 = model4.predict(X_test)"
   ]
  },
  {
   "cell_type": "code",
   "execution_count": 21,
   "id": "banned-junction",
   "metadata": {},
   "outputs": [
    {
     "name": "stdout",
     "output_type": "stream",
     "text": [
      "Model accuracy is % 10.91\n"
     ]
    }
   ],
   "source": [
    "predictions4 = []\n",
    "y_tests4 = []\n",
    "for i in range(0,len(predict4)):\n",
    "    for j in range(0,10):\n",
    "        if predict4[i][j] == 1:\n",
    "            predictions4.append(j)\n",
    "for i in range(0,len(y_test)):\n",
    "    y_tests4.append(y_test[i])\n",
    "accuracy4 = accuracy(y_tests4,predictions4)\n",
    "print(\"Model accuracy is %\", \"{:.2f}\".format(accuracy4))"
   ]
  },
  {
   "cell_type": "code",
   "execution_count": 22,
   "id": "broad-collectible",
   "metadata": {},
   "outputs": [],
   "source": [
    "model5 = MLP(X_train,y_train,X_test,y_test,L=4,NL=128) #changing the layer number to 4\n",
    "model5.train(batch_size=64,epochs=50,lr=0.02)\n",
    "predict5 = model5.predict(X_test)"
   ]
  },
  {
   "cell_type": "code",
   "execution_count": 23,
   "id": "intensive-dynamics",
   "metadata": {},
   "outputs": [
    {
     "name": "stdout",
     "output_type": "stream",
     "text": [
      "Model accuracy is % 6.36\n"
     ]
    }
   ],
   "source": [
    "predictions5 = []\n",
    "y_tests5 = []\n",
    "for i in range(0,len(predict5)):\n",
    "    for j in range(0,10):\n",
    "        if predict5[i][j] == 1:\n",
    "            predictions5.append(j)\n",
    "for i in range(0,len(y_test)):\n",
    "    y_tests5.append(y_test[i])\n",
    "accuracy5 = accuracy(y_tests5,predictions5)\n",
    "print(\"Model accuracy is %\", \"{:.2f}\".format(accuracy5))"
   ]
  },
  {
   "cell_type": "code",
   "execution_count": 24,
   "id": "worldwide-railway",
   "metadata": {},
   "outputs": [],
   "source": [
    "model6 = MLP(X_train,y_train,X_test,y_test,L=2,NL=256) #changing the layer size to 256\n",
    "model6.train(batch_size=64,epochs=50,lr=0.02)\n",
    "predict6 = model6.predict(X_test)"
   ]
  },
  {
   "cell_type": "code",
   "execution_count": 25,
   "id": "comfortable-cambodia",
   "metadata": {},
   "outputs": [
    {
     "name": "stdout",
     "output_type": "stream",
     "text": [
      "Model accuracy is % 5.45\n"
     ]
    }
   ],
   "source": [
    "predictions6 = []\n",
    "y_tests6 = []\n",
    "for i in range(0,len(predict6)):\n",
    "    for j in range(0,10):\n",
    "        if predict6[i][j] == 1:\n",
    "            predictions6.append(j)\n",
    "for i in range(0,len(y_test)):\n",
    "    y_tests6.append(y_test[i])\n",
    "accuracy6 = accuracy(y_tests6,predictions6)\n",
    "print(\"Model accuracy is %\", \"{:.2f}\".format(accuracy6))"
   ]
  },
  {
   "cell_type": "code",
   "execution_count": 26,
   "id": "exclusive-france",
   "metadata": {},
   "outputs": [],
   "source": [
    "model7 = MLP(X_train,y_train,X_test,y_test,L=2,NL=128) #changing the learning rate to 0.005\n",
    "model7.train(batch_size=64,epochs=50,lr=0.005)\n",
    "predict7 = model7.predict(X_test)"
   ]
  },
  {
   "cell_type": "code",
   "execution_count": 27,
   "id": "broadband-marijuana",
   "metadata": {},
   "outputs": [
    {
     "name": "stdout",
     "output_type": "stream",
     "text": [
      "Model accuracy is % 7.27\n"
     ]
    }
   ],
   "source": [
    "predictions7 = []\n",
    "y_tests7 = []\n",
    "for i in range(0,len(predict7)):\n",
    "    for j in range(0,10):\n",
    "        if predict7[i][j] == 1:\n",
    "            predictions7.append(j)\n",
    "for i in range(0,len(y_test)):\n",
    "    y_tests7.append(y_test[i])\n",
    "accuracy7 = accuracy(y_tests7,predictions7)\n",
    "print(\"Model accuracy is %\", \"{:.2f}\".format(accuracy7))"
   ]
  },
  {
   "cell_type": "code",
   "execution_count": 28,
   "id": "distributed-shoot",
   "metadata": {},
   "outputs": [],
   "source": [
    "model8 = MLP(X_train,y_train,X_test,y_test,L=2,NL=256) #changing the learning rate to 0.005 and layer size to 256\n",
    "model8.train(batch_size=64,epochs=50,lr=0.005)\n",
    "predict8 = model8.predict(X_test)"
   ]
  },
  {
   "cell_type": "code",
   "execution_count": 29,
   "id": "cooked-glory",
   "metadata": {},
   "outputs": [
    {
     "name": "stdout",
     "output_type": "stream",
     "text": [
      "Model accuracy is % 7.27\n"
     ]
    }
   ],
   "source": [
    "predictions8 = []\n",
    "y_tests8 = []\n",
    "for i in range(0,len(predict8)):\n",
    "    for j in range(0,10):\n",
    "        if predict8[i][j] == 1:\n",
    "            predictions8.append(j)\n",
    "for i in range(0,len(y_test)):\n",
    "    y_tests8.append(y_test[i])\n",
    "accuracy8 = accuracy(y_tests8,predictions8)\n",
    "print(\"Model accuracy is %\", \"{:.2f}\".format(accuracy8))"
   ]
  },
  {
   "cell_type": "code",
   "execution_count": 30,
   "id": "authorized-imaging",
   "metadata": {},
   "outputs": [],
   "source": [
    "model9 = MLP(X_train,y_train,X_test,y_test,L=2,NL=128) #changing the learning rate to 0.005 and layer size to 256\n",
    "model9.train(batch_size=64,epochs=50,lr=0.02)\n",
    "predict9 = model9.predict(X_test)"
   ]
  },
  {
   "cell_type": "code",
   "execution_count": 31,
   "id": "right-voice",
   "metadata": {},
   "outputs": [
    {
     "name": "stdout",
     "output_type": "stream",
     "text": [
      "Model accuracy is % 12.73\n"
     ]
    }
   ],
   "source": [
    "predictions9 = []\n",
    "y_tests9 = []\n",
    "for i in range(0,len(predict9)):\n",
    "    for j in range(0,10):\n",
    "        if predict9[i][j] == 1:\n",
    "            predictions9.append(j)\n",
    "for i in range(0,len(y_test)):\n",
    "    y_tests9.append(y_test[i])\n",
    "accuracy9 = accuracy(y_tests9,predictions9)\n",
    "print(\"Model accuracy is %\", \"{:.2f}\".format(accuracy9))"
   ]
  },
  {
   "cell_type": "code",
   "execution_count": 32,
   "id": "mighty-sweet",
   "metadata": {},
   "outputs": [],
   "source": [
    "model10 = MLP(X_train,y_train,X_test,y_test,L=2,NL=128) #changing the learning rate to 0.005 and layer size to 256\n",
    "model10.train(batch_size=128,epochs=100,lr=0.02)\n",
    "predict10 = model10.predict(X_test)"
   ]
  },
  {
   "cell_type": "code",
   "execution_count": 33,
   "id": "important-belarus",
   "metadata": {},
   "outputs": [
    {
     "name": "stdout",
     "output_type": "stream",
     "text": [
      "Model accuracy is % 12.73\n"
     ]
    }
   ],
   "source": [
    "predictions10 = []\n",
    "y_tests10 = []\n",
    "for i in range(0,len(predict10)):\n",
    "    for j in range(0,10):\n",
    "        if predict10[i][j] == 1:\n",
    "            predictions10.append(j)\n",
    "for i in range(0,len(y_test)):\n",
    "    y_tests10.append(y_test[i])\n",
    "accuracy10 = accuracy(y_tests10,predictions10)\n",
    "print(\"Model accuracy is %\", \"{:.2f}\".format(accuracy10))"
   ]
  },
  {
   "cell_type": "code",
   "execution_count": 34,
   "id": "emotional-health",
   "metadata": {},
   "outputs": [],
   "source": [
    "list_of_acc = []\n",
    "list_of_acc.append(accuracy1)\n",
    "list_of_acc.append(accuracy2)\n",
    "list_of_acc.append(accuracy3)\n",
    "list_of_acc.append(accuracy4)\n",
    "list_of_acc.append(accuracy5)\n",
    "list_of_acc.append(accuracy6)\n",
    "list_of_acc.append(accuracy7)\n",
    "list_of_acc.append(accuracy8)\n",
    "list_of_acc.append(accuracy9)\n",
    "list_of_acc.append(accuracy10)"
   ]
  },
  {
   "cell_type": "markdown",
   "id": "stretch-restaurant",
   "metadata": {},
   "source": [
    "## Results "
   ]
  },
  {
   "cell_type": "code",
   "execution_count": 35,
   "id": "binding-despite",
   "metadata": {},
   "outputs": [
    {
     "name": "stdout",
     "output_type": "stream",
     "text": [
      "Batch Size:32   Epochs:50   Learning Rate:0.02  Number of Layers:2  Layer Size:128 Accuracy: 7.27\n",
      "Batch Size:128  Epochs:50   Learning Rate:0.02  Number of Layers:2  Layer Size:128 Accuracy: 13.64\n",
      "Batch Size:64   Epochs:100  Learning Rate:0.02  Number of Layers:2  Layer Size:128 Accuracy: 21.82\n",
      "Batch Size:64   Epochs:50   Learning Rate:0.02  Number of Layers:3  Layer Size:128 Accuracy: 10.91\n",
      "Batch Size:64   Epochs:50   Learning Rate:0.02  Number of Layers:4  Layer Size:128 Accuracy: 6.36\n",
      "Batch Size:64   Epochs:50   Learning Rate:0.02  Number of Layers:2  Layer Size:256 Accuracy: 5.45\n",
      "Batch Size:64   Epochs:50   Learning Rate:0.005 Number of Layers:2  Layer Size:128 Accuracy: 7.27\n",
      "Batch Size:64   Epochs:50   Learning Rate:0.005 Number of Layers:2  Layer Size:256 Accuracy: 7.27\n",
      "Batch Size:64   Epochs:50   Learning Rate:0.02  Number of Layers:2  Layer Size:128 Accuracy: 12.73\n",
      "Batch Size:128  Epochs:100  Learning Rate:0.02  Number of Layers:2  Layer Size:128 Accuracy: 12.73\n"
     ]
    }
   ],
   "source": [
    "print(\"Batch Size:\" + \"32   \" + \"Epochs:\" + \"50   \" + \"Learning Rate:\" + \"0.02  \" + \"Number of Layers:\" + \"2  \" + \"Layer Size:\" + \"128\" + \" \" + \"Accuracy:\" , \"{:.2f}\".format(accuracy1))\n",
    "print(\"Batch Size:\" + \"128  \" + \"Epochs:\" + \"50   \" + \"Learning Rate:\" + \"0.02  \" + \"Number of Layers:\" + \"2  \" + \"Layer Size:\" + \"128\" + \" \" + \"Accuracy:\" , \"{:.2f}\".format(accuracy2))\n",
    "print(\"Batch Size:\" + \"64   \" + \"Epochs:\" + \"100  \" + \"Learning Rate:\" + \"0.02  \" + \"Number of Layers:\" + \"2  \" + \"Layer Size:\" + \"128\" + \" \" + \"Accuracy:\" , \"{:.2f}\".format(accuracy3))\n",
    "print(\"Batch Size:\" + \"64   \" + \"Epochs:\" + \"50   \" + \"Learning Rate:\" + \"0.02  \" + \"Number of Layers:\" + \"3  \" + \"Layer Size:\" + \"128\" + \" \" + \"Accuracy:\" , \"{:.2f}\".format(accuracy4))\n",
    "print(\"Batch Size:\" + \"64   \" + \"Epochs:\" + \"50   \" + \"Learning Rate:\" + \"0.02  \" + \"Number of Layers:\" + \"4  \" + \"Layer Size:\" + \"128\" + \" \" + \"Accuracy:\" , \"{:.2f}\".format(accuracy5))\n",
    "print(\"Batch Size:\" + \"64   \" + \"Epochs:\" + \"50   \" + \"Learning Rate:\" + \"0.02  \" + \"Number of Layers:\" + \"2  \" + \"Layer Size:\" + \"256\" + \" \" + \"Accuracy:\" , \"{:.2f}\".format(accuracy6))\n",
    "print(\"Batch Size:\" + \"64   \" + \"Epochs:\" + \"50   \" + \"Learning Rate:\" + \"0.005 \" + \"Number of Layers:\" + \"2  \" + \"Layer Size:\" + \"128\" + \" \" + \"Accuracy:\" , \"{:.2f}\".format(accuracy7))\n",
    "print(\"Batch Size:\" + \"64   \" + \"Epochs:\" + \"50   \" + \"Learning Rate:\" + \"0.005 \" + \"Number of Layers:\" + \"2  \" + \"Layer Size:\" + \"256\" + \" \" + \"Accuracy:\" , \"{:.2f}\".format(accuracy8))\n",
    "print(\"Batch Size:\" + \"64   \" + \"Epochs:\" + \"50   \" + \"Learning Rate:\" + \"0.02  \" + \"Number of Layers:\" + \"2  \" + \"Layer Size:\" + \"128\" + \" \" + \"Accuracy:\" , \"{:.2f}\".format(accuracy9))\n",
    "print(\"Batch Size:\" + \"128  \" + \"Epochs:\" + \"100  \" + \"Learning Rate:\" + \"0.02  \" + \"Number of Layers:\" + \"2  \" + \"Layer Size:\" + \"128\" + \" \" + \"Accuracy:\" , \"{:.2f}\".format(accuracy10))"
   ]
  },
  {
   "cell_type": "code",
   "execution_count": 36,
   "id": "noticed-exhibition",
   "metadata": {},
   "outputs": [
    {
     "data": {
      "image/png": "[encoded data removed]",
      "text/plain": [
       "<Figure size 432x288 with 1 Axes>"
      ]
     },
     "metadata": {
      "needs_background": "light"
     },
     "output_type": "display_data"
    }
   ],
   "source": [
    "x = range(0,10)\n",
    "y = list_of_acc\n",
    "\n",
    "plt.plot(x, y,color='g')\n",
    "plt.xlabel('Modal')\n",
    "plt.ylabel('Accuracy')\n",
    "plt.title('Result of Models')\n",
    "plt.show()"
   ]
  },
  {
   "cell_type": "markdown",
   "id": "blind-milwaukee",
   "metadata": {},
   "source": [
    "### Learning Rate"
   ]
  },
  {
   "cell_type": "markdown",
   "id": "technological-cooperation",
   "metadata": {},
   "source": [
    "The learning rate is a hyperparameter that controls how much to change the model in response to the estimated error each time the model weights are updated. <br> <br>\n",
    "Choosing the learning rate is challenging as a value too small may result in a long training process that could get stuck, whereas a value too large may result in learning a sub-optimal set of weights too fast or an unstable training process.\n",
    "\n",
    "I tested the \"learning rate\" parameter in model6 and model8 with keeping other variables the same."
   ]
  },
  {
   "cell_type": "markdown",
   "id": "broke-soviet",
   "metadata": {},
   "source": [
    "| LR = 0.005 | LR = 0.02 |\n",
    "| --- | --- |\n",
    "| 5.45 | 7.27 |"
   ]
  },
  {
   "cell_type": "markdown",
   "id": "constant-hawaiian",
   "metadata": {},
   "source": [
    "We can say in my modal, bigger learning rate is better."
   ]
  },
  {
   "cell_type": "markdown",
   "id": "middle-perry",
   "metadata": {},
   "source": [
    "### Batch Size"
   ]
  },
  {
   "cell_type": "markdown",
   "id": "cardiovascular-western",
   "metadata": {},
   "source": [
    "Batch size is a term used in machine learning and refers to the number of training examples utilized in one iteration. <br>\n",
    "The smaller the batch the less accurate the estimate of the gradient will be. <br> <br>\n",
    "I tested the \"batch size\" parameter in model1, model2 and model9 with keeping other variables the same."
   ]
  },
  {
   "cell_type": "markdown",
   "id": "respected-winning",
   "metadata": {},
   "source": [
    "| BS = 32 | BS = 64 | BS = 128 |\n",
    "| --- | --- | --- |\n",
    "| 7.27 | 12.73 | 13.64 |"
   ]
  },
  {
   "cell_type": "markdown",
   "id": "conservative-madison",
   "metadata": {},
   "source": [
    "We can say in my modal, bigger batch size is better."
   ]
  },
  {
   "cell_type": "markdown",
   "id": "downtown-location",
   "metadata": {},
   "source": [
    "### Epochs"
   ]
  },
  {
   "cell_type": "markdown",
   "id": "altered-dominican",
   "metadata": {},
   "source": [
    "An epoch is a term used in machine learning and indicates the number of passes of the entire training dataset <br>\n",
    "the machine learning algorithm has completed <br> <br>\n",
    "\n",
    "I tested the \"epochs\" parameter in model2 and model10 with keeping other variables the same."
   ]
  },
  {
   "cell_type": "markdown",
   "id": "imperial-saver",
   "metadata": {},
   "source": [
    "| Epochs = 50 | Epochs = 100 |\n",
    "| --- | --- |\n",
    "| 13.64 | 12.73 |"
   ]
  },
  {
   "cell_type": "markdown",
   "id": "welcome-petersburg",
   "metadata": {},
   "source": [
    "We can say in my modal, 50 epochs is the best. There is a small difference."
   ]
  },
  {
   "cell_type": "markdown",
   "id": "pursuant-biotechnology",
   "metadata": {},
   "source": [
    "### Number of Layers "
   ]
  },
  {
   "cell_type": "markdown",
   "id": "charitable-society",
   "metadata": {},
   "source": [
    "I tested the \"number of layers\" parameter in model4 and model5 with keeping other variables the same."
   ]
  },
  {
   "cell_type": "markdown",
   "id": "qualified-balance",
   "metadata": {},
   "source": [
    "| 3 Layers | 4 Layers |\n",
    "| --- | --- |\n",
    "| 10.91 | 6.91 |"
   ]
  },
  {
   "cell_type": "markdown",
   "id": "cardiac-speaking",
   "metadata": {},
   "source": [
    "We can say in my modal, less number of layers are better for accuracy."
   ]
  },
  {
   "cell_type": "markdown",
   "id": "victorian-stupid",
   "metadata": {},
   "source": [
    "### Layer Size"
   ]
  },
  {
   "cell_type": "markdown",
   "id": "speaking-message",
   "metadata": {},
   "source": [
    "I tested the \"number of layers\" parameter in model7 and model8 with keeping other variables the same."
   ]
  },
  {
   "cell_type": "markdown",
   "id": "iraqi-birthday",
   "metadata": {},
   "source": [
    "| LS = 128 | LS = 256 |\n",
    "| --- | --- |\n",
    "| 7.27 | 7.27 |"
   ]
  },
  {
   "cell_type": "markdown",
   "id": "linear-folks",
   "metadata": {},
   "source": [
    "We can say in my modal, layer size didn't changed anything."
   ]
  },
  {
   "cell_type": "markdown",
   "id": "cardiac-outline",
   "metadata": {},
   "source": [
    "# Convolutional Neural Network"
   ]
  },
  {
   "cell_type": "code",
   "execution_count": 37,
   "id": "tropical-record",
   "metadata": {},
   "outputs": [],
   "source": [
    "image_reshaped = []\n",
    "for i in range(0,len(image_list)):\n",
    "    image_reshaped.append(image_list[i].reshape(8,8,3))"
   ]
  },
  {
   "cell_type": "code",
   "execution_count": 38,
   "id": "fleet-slovenia",
   "metadata": {},
   "outputs": [],
   "source": [
    "X = image_reshaped\n",
    "y = label_list"
   ]
  },
  {
   "cell_type": "code",
   "execution_count": 39,
   "id": "fifth-penetration",
   "metadata": {},
   "outputs": [],
   "source": [
    "X_train, X_test, y_train, y_test = train_test_split(X, y, test_size = 0.1, random_state = 1)"
   ]
  },
  {
   "cell_type": "code",
   "execution_count": 40,
   "id": "based-witch",
   "metadata": {},
   "outputs": [],
   "source": [
    "X_train = np.array(X_train)\n",
    "X_test = np.array(X_test)\n",
    "y_train = np.array(y_train)\n",
    "y_test = np.array(y_test)"
   ]
  },
  {
   "cell_type": "markdown",
   "id": "formal-convertible",
   "metadata": {},
   "source": [
    "## 1) Single Layer"
   ]
  },
  {
   "cell_type": "code",
   "execution_count": 41,
   "id": "equipped-conservative",
   "metadata": {},
   "outputs": [
    {
     "name": "stdout",
     "output_type": "stream",
     "text": [
      "Epoch 1/10\n",
      "16/16 [==============================] - 1s 7ms/step - loss: 10.9908 - accuracy: 0.0892\n",
      "Epoch 2/10\n",
      "16/16 [==============================] - 0s 7ms/step - loss: 11.1192 - accuracy: 0.0912\n",
      "Epoch 3/10\n",
      "16/16 [==============================] - 0s 8ms/step - loss: 11.1192 - accuracy: 0.0912\n",
      "Epoch 4/10\n",
      "16/16 [==============================] - 0s 7ms/step - loss: 11.1192 - accuracy: 0.0912\n",
      "Epoch 5/10\n",
      "16/16 [==============================] - 0s 7ms/step - loss: 11.1192 - accuracy: 0.0912\n",
      "Epoch 6/10\n",
      "16/16 [==============================] - 0s 9ms/step - loss: 11.1192 - accuracy: 0.0912\n",
      "Epoch 7/10\n",
      "16/16 [==============================] - 0s 8ms/step - loss: 11.1192 - accuracy: 0.0912\n",
      "Epoch 8/10\n",
      "16/16 [==============================] - 0s 8ms/step - loss: 11.1192 - accuracy: 0.0912\n",
      "Epoch 9/10\n",
      "16/16 [==============================] - 0s 8ms/step - loss: 11.1192 - accuracy: 0.0912\n",
      "Epoch 10/10\n",
      "16/16 [==============================] - 0s 8ms/step - loss: 11.1192 - accuracy: 0.0912\n"
     ]
    }
   ],
   "source": [
    "model1 = Sequential() #Single Layer with learning rate 0.05\n",
    "\n",
    "model1.add(Conv2D(256,(3,3), activation='relu', input_shape=(8, 8, 3))) #input layer\n",
    "model1.add(MaxPool2D((4, 4)))\n",
    "model1.add(Flatten())\n",
    "model1.add(Dense(10, activation='relu')) #output layer\n",
    "learning_rate = 0.05\n",
    "model1.compile(optimizer=Adam(learning_rate),\n",
    "              loss='sparse_categorical_crossentropy',\n",
    "              metrics=['accuracy'])\n",
    "fit = model1.fit(X_train, y_train, epochs=10, batch_size = 64)"
   ]
  },
  {
   "cell_type": "code",
   "execution_count": 42,
   "id": "classical-serial",
   "metadata": {},
   "outputs": [
    {
     "name": "stdout",
     "output_type": "stream",
     "text": [
      "Test Accuracy is 0.14\n",
      "Test Loss is 12.38\n"
     ]
    }
   ],
   "source": [
    "test_loss1, test_acc1 = model1.evaluate(X_test,\n",
    "                                     y_test,\n",
    "                                     verbose=10)\n",
    "print('Test Accuracy is', \"{:.2f}\".format(test_acc1))\n",
    "print('Test Loss is',\"{:.2f}\".format(test_loss1))"
   ]
  },
  {
   "cell_type": "code",
   "execution_count": 43,
   "id": "laden-lafayette",
   "metadata": {},
   "outputs": [
    {
     "name": "stdout",
     "output_type": "stream",
     "text": [
      "Epoch 1/10\n",
      "16/16 [==============================] - 0s 7ms/step - loss: 13.3299 - accuracy: 0.0922\n",
      "Epoch 2/10\n",
      "16/16 [==============================] - 0s 8ms/step - loss: 14.6484 - accuracy: 0.0912\n",
      "Epoch 3/10\n",
      "16/16 [==============================] - 0s 7ms/step - loss: 14.6484 - accuracy: 0.0912\n",
      "Epoch 4/10\n",
      "16/16 [==============================] - 0s 7ms/step - loss: 14.6484 - accuracy: 0.0912\n",
      "Epoch 5/10\n",
      "16/16 [==============================] - 0s 7ms/step - loss: 14.6484 - accuracy: 0.0912\n",
      "Epoch 6/10\n",
      "16/16 [==============================] - 0s 8ms/step - loss: 14.6484 - accuracy: 0.0912\n",
      "Epoch 7/10\n",
      "16/16 [==============================] - 0s 8ms/step - loss: 14.6484 - accuracy: 0.0912\n",
      "Epoch 8/10\n",
      "16/16 [==============================] - 0s 7ms/step - loss: 14.6484 - accuracy: 0.0912\n",
      "Epoch 9/10\n",
      "16/16 [==============================] - 0s 8ms/step - loss: 14.6484 - accuracy: 0.0912\n",
      "Epoch 10/10\n",
      "16/16 [==============================] - 0s 8ms/step - loss: 14.6484 - accuracy: 0.0912\n"
     ]
    }
   ],
   "source": [
    "model2 = Sequential() #Single Layer with learning rate 0.01\n",
    "\n",
    "model2.add(Conv2D(256,(3,3), activation='relu', input_shape=(8, 8, 3))) #input layer\n",
    "model2.add(MaxPool2D((4, 4)))\n",
    "model2.add(Flatten())\n",
    "model2.add(Dense(10 , activation='relu')) #output layer\n",
    "learning_rate = 0.01\n",
    "model2.compile(optimizer=Adam(learning_rate),\n",
    "              loss='sparse_categorical_crossentropy',\n",
    "              metrics=['accuracy'])\n",
    "fit = model2.fit(X_train, y_train, epochs=10, batch_size = 64)"
   ]
  },
  {
   "cell_type": "code",
   "execution_count": 44,
   "id": "swiss-october",
   "metadata": {},
   "outputs": [
    {
     "name": "stdout",
     "output_type": "stream",
     "text": [
      "Test Accuracy is 0.14\n",
      "Test Loss is 13.92\n"
     ]
    }
   ],
   "source": [
    "test_loss2, test_acc2 = model2.evaluate(X_test,\n",
    "                                     y_test,\n",
    "                                     verbose=10)\n",
    "print('Test Accuracy is', \"{:.2f}\".format(test_acc2))\n",
    "print('Test Loss is',\"{:.2f}\".format(test_loss2))"
   ]
  },
  {
   "cell_type": "code",
   "execution_count": 45,
   "id": "sonic-value",
   "metadata": {},
   "outputs": [
    {
     "name": "stdout",
     "output_type": "stream",
     "text": [
      "Epoch 1/10\n",
      "16/16 [==============================] - 1s 7ms/step - loss: 10.7558 - accuracy: 0.0973\n",
      "Epoch 2/10\n",
      "16/16 [==============================] - 0s 8ms/step - loss: 10.9722 - accuracy: 0.1003\n",
      "Epoch 3/10\n",
      "16/16 [==============================] - 0s 8ms/step - loss: 10.9722 - accuracy: 0.1003\n",
      "Epoch 4/10\n",
      "16/16 [==============================] - 0s 7ms/step - loss: 10.9722 - accuracy: 0.1003\n",
      "Epoch 5/10\n",
      "16/16 [==============================] - 0s 7ms/step - loss: 10.9722 - accuracy: 0.1003\n",
      "Epoch 6/10\n",
      "16/16 [==============================] - 0s 7ms/step - loss: 10.9722 - accuracy: 0.1003\n",
      "Epoch 7/10\n",
      "16/16 [==============================] - 0s 8ms/step - loss: 10.9722 - accuracy: 0.1003\n",
      "Epoch 8/10\n",
      "16/16 [==============================] - 0s 7ms/step - loss: 10.9722 - accuracy: 0.1003\n",
      "Epoch 9/10\n",
      "16/16 [==============================] - 0s 7ms/step - loss: 10.9722 - accuracy: 0.1003\n",
      "Epoch 10/10\n",
      "16/16 [==============================] - 0s 8ms/step - loss: 10.9722 - accuracy: 0.1003\n"
     ]
    }
   ],
   "source": [
    "model3 = Sequential() #Single Layer with learning rate 0.1\n",
    "\n",
    "model3.add(Conv2D(256,(3,3), activation='relu', input_shape=(8, 8, 3))) #input layer\n",
    "model3.add(MaxPool2D((4, 4)))\n",
    "model3.add(Flatten())\n",
    "model3.add(Dense(10 , activation='relu')) #output layer\n",
    "learning_rate = 0.1\n",
    "model3.compile(optimizer=Adam(learning_rate),\n",
    "              loss='sparse_categorical_crossentropy',\n",
    "              metrics=['accuracy'])\n",
    "fit = model3.fit(X_train, y_train, epochs=10, batch_size = 64)"
   ]
  },
  {
   "cell_type": "code",
   "execution_count": 46,
   "id": "fantastic-mixture",
   "metadata": {},
   "outputs": [
    {
     "name": "stdout",
     "output_type": "stream",
     "text": [
      "Test Accuracy is 0.05\n",
      "Test Loss is 10.76\n"
     ]
    }
   ],
   "source": [
    "test_loss3, test_acc3 = model3.evaluate(X_test,\n",
    "                                     y_test,\n",
    "                                     verbose=10)\n",
    "print('Test Accuracy is', \"{:.2f}\".format(test_acc3))\n",
    "print('Test Loss is',\"{:.2f}\".format(test_loss3))"
   ]
  },
  {
   "cell_type": "code",
   "execution_count": 47,
   "id": "disabled-iceland",
   "metadata": {},
   "outputs": [
    {
     "name": "stdout",
     "output_type": "stream",
     "text": [
      "Epoch 1/10\n",
      "16/16 [==============================] - 1s 7ms/step - loss: 13.2661 - accuracy: 0.1023\n",
      "Epoch 2/10\n",
      "16/16 [==============================] - 0s 7ms/step - loss: 13.6431 - accuracy: 0.1003\n",
      "Epoch 3/10\n",
      "16/16 [==============================] - 0s 8ms/step - loss: 13.6431 - accuracy: 0.1003\n",
      "Epoch 4/10\n",
      "16/16 [==============================] - 0s 7ms/step - loss: 13.6431 - accuracy: 0.1003\n",
      "Epoch 5/10\n",
      "16/16 [==============================] - 0s 7ms/step - loss: 13.6431 - accuracy: 0.1003\n",
      "Epoch 6/10\n",
      "16/16 [==============================] - 0s 7ms/step - loss: 13.6431 - accuracy: 0.1003\n",
      "Epoch 7/10\n",
      "16/16 [==============================] - 0s 6ms/step - loss: 13.6431 - accuracy: 0.1003\n",
      "Epoch 8/10\n",
      "16/16 [==============================] - 0s 8ms/step - loss: 13.6431 - accuracy: 0.1003\n",
      "Epoch 9/10\n",
      "16/16 [==============================] - 0s 7ms/step - loss: 13.6431 - accuracy: 0.1003\n",
      "Epoch 10/10\n",
      "16/16 [==============================] - 0s 7ms/step - loss: 13.6431 - accuracy: 0.1003\n"
     ]
    }
   ],
   "source": [
    "from tensorflow.keras.optimizers import SGD\n",
    "model4 = Sequential() #Single Layer with learning rate 0.001, optimizer = SGD\n",
    "\n",
    "model4.add(Conv2D(256,(3,3), activation='relu', input_shape=(8, 8, 3))) #input layer\n",
    "model4.add(MaxPool2D((4, 4)))\n",
    "model4.add(Flatten())\n",
    "model4.add(Dense(10 , activation='relu')) #output layer\n",
    "learning_rate = 0.05\n",
    "model4.compile(optimizer=SGD(learning_rate),\n",
    "              loss='sparse_categorical_crossentropy',\n",
    "              metrics=['accuracy'])\n",
    "fit = model4.fit(X_train, y_train, epochs=10, batch_size = 64)"
   ]
  },
  {
   "cell_type": "code",
   "execution_count": 48,
   "id": "aging-anger",
   "metadata": {},
   "outputs": [
    {
     "name": "stdout",
     "output_type": "stream",
     "text": [
      "Test Accuracy is 0.05\n",
      "Test Loss is 14.32\n"
     ]
    }
   ],
   "source": [
    "test_loss4, test_acc4 = model4.evaluate(X_test,\n",
    "                                     y_test,\n",
    "                                     verbose=10)\n",
    "print('Test Accuracy is', \"{:.2f}\".format(test_acc4))\n",
    "print('Test Loss is',\"{:.2f}\".format(test_loss4))"
   ]
  },
  {
   "cell_type": "code",
   "execution_count": 49,
   "id": "rising-secondary",
   "metadata": {},
   "outputs": [
    {
     "name": "stdout",
     "output_type": "stream",
     "text": [
      "Epoch 1/10\n",
      "16/16 [==============================] - 0s 7ms/step - loss: 7.3329 - accuracy: 0.1003\n",
      "Epoch 2/10\n",
      "16/16 [==============================] - 0s 7ms/step - loss: 7.0112 - accuracy: 0.0922\n",
      "Epoch 3/10\n",
      "16/16 [==============================] - 0s 7ms/step - loss: 7.3382 - accuracy: 0.1033\n",
      "Epoch 4/10\n",
      "16/16 [==============================] - 0s 8ms/step - loss: 8.0853 - accuracy: 0.0973\n",
      "Epoch 5/10\n",
      "16/16 [==============================] - 0s 7ms/step - loss: 6.1408 - accuracy: 0.1256\n",
      "Epoch 6/10\n",
      "16/16 [==============================] - 0s 7ms/step - loss: 2.3520 - accuracy: 0.0922\n",
      "Epoch 7/10\n",
      "16/16 [==============================] - 0s 7ms/step - loss: 2.3003 - accuracy: 0.0922\n",
      "Epoch 8/10\n",
      "16/16 [==============================] - 0s 8ms/step - loss: 2.3003 - accuracy: 0.0922\n",
      "Epoch 9/10\n",
      "16/16 [==============================] - 0s 7ms/step - loss: 2.3003 - accuracy: 0.0922\n",
      "Epoch 10/10\n",
      "16/16 [==============================] - 0s 8ms/step - loss: 2.3003 - accuracy: 0.0922\n"
     ]
    }
   ],
   "source": [
    "from tensorflow.keras.optimizers import Adadelta\n",
    "model5 = Sequential() #Single Layer with learning rate 0.001, optimizer = Adadelta\n",
    "\n",
    "model5.add(Conv2D(256,(3,3), activation='relu', input_shape=(8, 8, 3))) #input layer\n",
    "model5.add(MaxPool2D((4, 4)))\n",
    "model5.add(Flatten())\n",
    "model5.add(Dense(10 , activation='relu')) #output layer\n",
    "learning_rate = 0.05\n",
    "model5.compile(optimizer=Adadelta(learning_rate),\n",
    "              loss='sparse_categorical_crossentropy',\n",
    "              metrics=['accuracy'])\n",
    "fit = model5.fit(X_train, y_train, epochs=10, batch_size = 64)"
   ]
  },
  {
   "cell_type": "code",
   "execution_count": 50,
   "id": "wired-hopkins",
   "metadata": {},
   "outputs": [
    {
     "name": "stdout",
     "output_type": "stream",
     "text": [
      "Test Accuracy is 0.15\n",
      "Test Loss is 2.43\n"
     ]
    }
   ],
   "source": [
    "test_loss5, test_acc5 = model5.evaluate(X_test,\n",
    "                                     y_test,\n",
    "                                     verbose=10)\n",
    "print('Test Accuracy is', \"{:.2f}\".format(test_acc5))\n",
    "print('Test Loss is',\"{:.2f}\".format(test_loss5))"
   ]
  },
  {
   "cell_type": "code",
   "execution_count": 51,
   "id": "powerful-insulin",
   "metadata": {},
   "outputs": [
    {
     "name": "stdout",
     "output_type": "stream",
     "text": [
      "Epoch 1/10\n",
      "16/16 [==============================] - 1s 8ms/step - loss: 13.3420 - accuracy: 0.0973\n",
      "Epoch 2/10\n",
      "16/16 [==============================] - 0s 7ms/step - loss: 13.6595 - accuracy: 0.1044\n",
      "Epoch 3/10\n",
      "16/16 [==============================] - 0s 7ms/step - loss: 13.6595 - accuracy: 0.1044\n",
      "Epoch 4/10\n",
      "16/16 [==============================] - 0s 7ms/step - loss: 13.6595 - accuracy: 0.1044\n",
      "Epoch 5/10\n",
      "16/16 [==============================] - 0s 7ms/step - loss: 13.6595 - accuracy: 0.1044\n",
      "Epoch 6/10\n",
      "16/16 [==============================] - 0s 7ms/step - loss: 13.6595 - accuracy: 0.1044\n",
      "Epoch 7/10\n",
      "16/16 [==============================] - 0s 7ms/step - loss: 13.6595 - accuracy: 0.1044\n",
      "Epoch 8/10\n",
      "16/16 [==============================] - 0s 7ms/step - loss: 13.6595 - accuracy: 0.1044\n",
      "Epoch 9/10\n",
      "16/16 [==============================] - 0s 11ms/step - loss: 13.6595 - accuracy: 0.1044\n",
      "Epoch 10/10\n",
      "16/16 [==============================] - 0s 10ms/step - loss: 13.6595 - accuracy: 0.1044\n"
     ]
    }
   ],
   "source": [
    "from tensorflow.keras.optimizers import Nadam\n",
    "model6 = Sequential() #Single Layer with learning rate 0.001, optimizer = Nadam\n",
    "\n",
    "model6.add(Conv2D(256,(3,3), activation='relu', input_shape=(8, 8, 3))) #input layer\n",
    "model6.add(MaxPool2D((4, 4)))\n",
    "model6.add(Flatten())\n",
    "model6.add(Dense(10 , activation='relu')) #output layer\n",
    "learning_rate = 0.05\n",
    "model6.compile(optimizer=Nadam(learning_rate),\n",
    "              loss='sparse_categorical_crossentropy',\n",
    "              metrics=['accuracy'])\n",
    "fit = model6.fit(X_train, y_train, epochs=10, batch_size = 64)"
   ]
  },
  {
   "cell_type": "code",
   "execution_count": 52,
   "id": "attractive-bobby",
   "metadata": {},
   "outputs": [
    {
     "name": "stdout",
     "output_type": "stream",
     "text": [
      "Test Accuracy is 0.06\n",
      "Test Loss is 13.59\n"
     ]
    }
   ],
   "source": [
    "test_loss6, test_acc6 = model6.evaluate(X_test,\n",
    "                                     y_test,\n",
    "                                     verbose=10)\n",
    "print('Test Accuracy is', \"{:.2f}\".format(test_acc6))\n",
    "print('Test Loss is',\"{:.2f}\".format(test_loss6))"
   ]
  },
  {
   "cell_type": "code",
   "execution_count": 53,
   "id": "personal-latino",
   "metadata": {},
   "outputs": [
    {
     "name": "stdout",
     "output_type": "stream",
     "text": [
      "Epoch 1/10\n",
      "16/16 [==============================] - 0s 5ms/step - loss: 4.2175 - accuracy: 0.0963\n",
      "Epoch 2/10\n",
      "16/16 [==============================] - 0s 5ms/step - loss: 2.3026 - accuracy: 0.0912\n",
      "Epoch 3/10\n",
      "16/16 [==============================] - 0s 5ms/step - loss: 2.3026 - accuracy: 0.0912\n",
      "Epoch 4/10\n",
      "16/16 [==============================] - 0s 5ms/step - loss: 2.3026 - accuracy: 0.0912\n",
      "Epoch 5/10\n",
      "16/16 [==============================] - 0s 5ms/step - loss: 2.3026 - accuracy: 0.0912\n",
      "Epoch 6/10\n",
      "16/16 [==============================] - 0s 5ms/step - loss: 2.3026 - accuracy: 0.0912\n",
      "Epoch 7/10\n",
      "16/16 [==============================] - 0s 5ms/step - loss: 2.3026 - accuracy: 0.0912\n",
      "Epoch 8/10\n",
      "16/16 [==============================] - 0s 5ms/step - loss: 2.3026 - accuracy: 0.0912\n",
      "Epoch 9/10\n",
      "16/16 [==============================] - 0s 6ms/step - loss: 2.3026 - accuracy: 0.0912\n",
      "Epoch 10/10\n",
      "16/16 [==============================] - 0s 5ms/step - loss: 2.3026 - accuracy: 0.0912\n"
     ]
    }
   ],
   "source": [
    "model7 = Sequential() #Single Layer with learning rate 0.001,layer size = 128\n",
    "\n",
    "model7.add(Conv2D(128,(3,3), activation='relu', input_shape=(8, 8, 3))) #input layer\n",
    "model7.add(MaxPool2D((4, 4)))\n",
    "model7.add(Flatten())\n",
    "model7.add(Dense(10 , activation='relu')) #output layer\n",
    "learning_rate = 0.05\n",
    "model7.compile(optimizer=Adam(learning_rate),\n",
    "              loss='sparse_categorical_crossentropy',\n",
    "              metrics=['accuracy'])\n",
    "fit = model7.fit(X_train, y_train, epochs=10, batch_size = 64)"
   ]
  },
  {
   "cell_type": "code",
   "execution_count": 54,
   "id": "seeing-segment",
   "metadata": {},
   "outputs": [
    {
     "name": "stdout",
     "output_type": "stream",
     "text": [
      "Test Accuracy is 0.14\n",
      "Test Loss is 2.30\n"
     ]
    }
   ],
   "source": [
    "test_loss7, test_acc7 = model7.evaluate(X_test,\n",
    "                                     y_test,\n",
    "                                     verbose=10)\n",
    "print('Test Accuracy is', \"{:.2f}\".format(test_acc7))\n",
    "print('Test Loss is',\"{:.2f}\".format(test_loss7))"
   ]
  },
  {
   "cell_type": "code",
   "execution_count": 55,
   "id": "generous-journey",
   "metadata": {},
   "outputs": [
    {
     "name": "stdout",
     "output_type": "stream",
     "text": [
      "Epoch 1/10\n",
      "16/16 [==============================] - 0s 3ms/step - loss: 8.6462 - accuracy: 0.0922\n",
      "Epoch 2/10\n",
      "16/16 [==============================] - 0s 4ms/step - loss: 8.5689 - accuracy: 0.0912\n",
      "Epoch 3/10\n",
      "16/16 [==============================] - 0s 3ms/step - loss: 8.5689 - accuracy: 0.0912\n",
      "Epoch 4/10\n",
      "16/16 [==============================] - 0s 4ms/step - loss: 8.5689 - accuracy: 0.0912\n",
      "Epoch 5/10\n",
      "16/16 [==============================] - 0s 4ms/step - loss: 8.5689 - accuracy: 0.0912\n",
      "Epoch 6/10\n",
      "16/16 [==============================] - 0s 4ms/step - loss: 8.5689 - accuracy: 0.0912\n",
      "Epoch 7/10\n",
      "16/16 [==============================] - 0s 4ms/step - loss: 8.5689 - accuracy: 0.0912\n",
      "Epoch 8/10\n",
      "16/16 [==============================] - 0s 4ms/step - loss: 8.5689 - accuracy: 0.0912\n",
      "Epoch 9/10\n",
      "16/16 [==============================] - 0s 4ms/step - loss: 8.5689 - accuracy: 0.0912\n",
      "Epoch 10/10\n",
      "16/16 [==============================] - 0s 4ms/step - loss: 8.5689 - accuracy: 0.0912\n"
     ]
    }
   ],
   "source": [
    "model8 = Sequential() #Single Layer with learning rate 0.001,layer size = 64\n",
    "\n",
    "model8.add(Conv2D(64,(3,3), activation='relu', input_shape=(8, 8, 3))) #input layer\n",
    "model8.add(MaxPool2D((4, 4)))\n",
    "model8.add(Flatten())\n",
    "model8.add(Dense(10 , activation='relu')) #output layer\n",
    "learning_rate = 0.05\n",
    "model8.compile(optimizer=Adam(learning_rate),\n",
    "              loss='sparse_categorical_crossentropy',\n",
    "              metrics=['accuracy'])\n",
    "fit = model8.fit(X_train, y_train, epochs=10, batch_size = 64)"
   ]
  },
  {
   "cell_type": "code",
   "execution_count": 56,
   "id": "hydraulic-prize",
   "metadata": {},
   "outputs": [
    {
     "name": "stdout",
     "output_type": "stream",
     "text": [
      "Test Accuracy is 0.14\n",
      "Test Loss is 6.33\n"
     ]
    }
   ],
   "source": [
    "test_loss8, test_acc8 = model8.evaluate(X_test,\n",
    "                                     y_test,\n",
    "                                     verbose=10)\n",
    "print('Test Accuracy is', \"{:.2f}\".format(test_acc8))\n",
    "print('Test Loss is',\"{:.2f}\".format(test_loss8))"
   ]
  },
  {
   "cell_type": "code",
   "execution_count": 57,
   "id": "flush-london",
   "metadata": {},
   "outputs": [
    {
     "name": "stdout",
     "output_type": "stream",
     "text": [
      "Epoch 1/10\n",
      "16/16 [==============================] - 0s 7ms/step - loss: 4.1592 - accuracy: 0.0952\n",
      "Epoch 2/10\n",
      "16/16 [==============================] - 0s 8ms/step - loss: 2.3558 - accuracy: 0.1287\n",
      "Epoch 3/10\n",
      "16/16 [==============================] - 0s 12ms/step - loss: 2.2951 - accuracy: 0.1449\n",
      "Epoch 4/10\n",
      "16/16 [==============================] - 0s 11ms/step - loss: 2.2680 - accuracy: 0.1651\n",
      "Epoch 5/10\n",
      "16/16 [==============================] - 0s 9ms/step - loss: 2.2577 - accuracy: 0.1743\n",
      "Epoch 6/10\n",
      "16/16 [==============================] - 0s 9ms/step - loss: 2.2515 - accuracy: 0.1814\n",
      "Epoch 7/10\n",
      "16/16 [==============================] - 0s 9ms/step - loss: 2.2269 - accuracy: 0.1854\n",
      "Epoch 8/10\n",
      "16/16 [==============================] - 0s 9ms/step - loss: 2.1781 - accuracy: 0.1945\n",
      "Epoch 9/10\n",
      "16/16 [==============================] - 0s 12ms/step - loss: 2.1255 - accuracy: 0.2178\n",
      "Epoch 10/10\n",
      "16/16 [==============================] - 0s 19ms/step - loss: 2.0705 - accuracy: 0.2371\n"
     ]
    }
   ],
   "source": [
    "model9 = Sequential() #Single Layer with learning rate 0.001, activation = sigmoid\n",
    "\n",
    "model9.add(Conv2D(256,(3,3), activation='sigmoid', input_shape=(8, 8, 3))) #input layer\n",
    "model9.add(MaxPool2D((4, 4)))\n",
    "model9.add(Flatten())\n",
    "model9.add(Dense(10 , activation='sigmoid')) #output layer\n",
    "learning_rate = 0.05\n",
    "model9.compile(optimizer=Adam(learning_rate),\n",
    "              loss='sparse_categorical_crossentropy',\n",
    "              metrics=['accuracy'])\n",
    "fit = model9.fit(X_train, y_train, epochs=10, batch_size = 64)"
   ]
  },
  {
   "cell_type": "code",
   "execution_count": 58,
   "id": "turkish-poultry",
   "metadata": {},
   "outputs": [
    {
     "name": "stdout",
     "output_type": "stream",
     "text": [
      "Test Accuracy is 0.23\n",
      "Test Loss is 2.08\n"
     ]
    }
   ],
   "source": [
    "test_loss9, test_acc9 = model9.evaluate(X_test,\n",
    "                                     y_test,\n",
    "                                     verbose=10)\n",
    "print('Test Accuracy is', \"{:.2f}\".format(test_acc9))\n",
    "print('Test Loss is',\"{:.2f}\".format(test_loss9))"
   ]
  },
  {
   "cell_type": "code",
   "execution_count": 59,
   "id": "sublime-shoot",
   "metadata": {},
   "outputs": [
    {
     "name": "stdout",
     "output_type": "stream",
     "text": [
      "Epoch 1/10\n",
      "16/16 [==============================] - 1s 16ms/step - loss: 2.3113 - accuracy: 0.1094\n",
      "Epoch 2/10\n",
      "16/16 [==============================] - 0s 12ms/step - loss: 2.2416 - accuracy: 0.1884\n",
      "Epoch 3/10\n",
      "16/16 [==============================] - 0s 13ms/step - loss: 2.0488 - accuracy: 0.3009\n",
      "Epoch 4/10\n",
      "16/16 [==============================] - 0s 19ms/step - loss: 1.8108 - accuracy: 0.3506\n",
      "Epoch 5/10\n",
      "16/16 [==============================] - 0s 15ms/step - loss: 1.6663 - accuracy: 0.4195\n",
      "Epoch 6/10\n",
      "16/16 [==============================] - 0s 17ms/step - loss: 1.5473 - accuracy: 0.4265\n",
      "Epoch 7/10\n",
      "16/16 [==============================] - 0s 14ms/step - loss: 1.4636 - accuracy: 0.4894\n",
      "Epoch 8/10\n",
      "16/16 [==============================] - 0s 14ms/step - loss: 1.4305 - accuracy: 0.4833\n",
      "Epoch 9/10\n",
      "16/16 [==============================] - 0s 14ms/step - loss: 1.3951 - accuracy: 0.4934\n",
      "Epoch 10/10\n",
      "16/16 [==============================] - 0s 13ms/step - loss: 1.3534 - accuracy: 0.5117\n"
     ]
    }
   ],
   "source": [
    "model10 = Sequential() #Single Layer with learning rate 0.001, activation = softmax\n",
    "\n",
    "model10.add(Conv2D(256,(3,3), activation='softmax', input_shape=(8, 8, 3))) #input layer\n",
    "model10.add(MaxPool2D((4, 4)))\n",
    "model10.add(Flatten())\n",
    "model10.add(Dense(10 , activation='softmax')) #output layer\n",
    "learning_rate = 0.05\n",
    "model10.compile(optimizer=Adam(learning_rate),\n",
    "              loss='sparse_categorical_crossentropy',\n",
    "              metrics=['accuracy'])\n",
    "fit = model10.fit(X_train, y_train, epochs=10, batch_size = 64)"
   ]
  },
  {
   "cell_type": "code",
   "execution_count": 60,
   "id": "basic-webmaster",
   "metadata": {},
   "outputs": [
    {
     "name": "stdout",
     "output_type": "stream",
     "text": [
      "Test Accuracy is 0.41\n",
      "Test Loss is 1.60\n"
     ]
    }
   ],
   "source": [
    "test_loss10, test_acc10 = model10.evaluate(X_test,\n",
    "                                     y_test,\n",
    "                                     verbose=10)\n",
    "print('Test Accuracy is', \"{:.2f}\".format(test_acc10))\n",
    "print('Test Loss is',\"{:.2f}\".format(test_loss10))"
   ]
  },
  {
   "cell_type": "code",
   "execution_count": 61,
   "id": "third-vegetation",
   "metadata": {},
   "outputs": [],
   "source": [
    "accuracy_list = []\n",
    "loss_list = []\n",
    "accuracy_list.append(test_acc1)\n",
    "accuracy_list.append(test_acc2)\n",
    "accuracy_list.append(test_acc3)\n",
    "accuracy_list.append(test_acc4)\n",
    "accuracy_list.append(test_acc5)\n",
    "accuracy_list.append(test_acc6)\n",
    "accuracy_list.append(test_acc7)\n",
    "accuracy_list.append(test_acc8)\n",
    "accuracy_list.append(test_acc9)\n",
    "accuracy_list.append(test_acc10)\n",
    "loss_list.append(test_loss1)\n",
    "loss_list.append(test_loss2)\n",
    "loss_list.append(test_loss3)\n",
    "loss_list.append(test_loss4)\n",
    "loss_list.append(test_loss5)\n",
    "loss_list.append(test_loss6)\n",
    "loss_list.append(test_loss7)\n",
    "loss_list.append(test_loss8)\n",
    "loss_list.append(test_loss9)\n",
    "loss_list.append(test_loss10)"
   ]
  },
  {
   "cell_type": "markdown",
   "id": "injured-medicare",
   "metadata": {},
   "source": [
    "## Results "
   ]
  },
  {
   "cell_type": "code",
   "execution_count": 62,
   "id": "activated-identity",
   "metadata": {},
   "outputs": [
    {
     "data": {
      "image/png": "[encoded data removed]",
      "text/plain": [
       "<Figure size 432x288 with 1 Axes>"
      ]
     },
     "metadata": {
      "needs_background": "light"
     },
     "output_type": "display_data"
    }
   ],
   "source": [
    "x = range(0,10)\n",
    "y = accuracy_list\n",
    "\n",
    "plt.plot(x, y,color='g')\n",
    "plt.xlabel('Modal')\n",
    "plt.ylabel('Accuracy')\n",
    "plt.title('Result of Models')\n",
    "plt.show()"
   ]
  },
  {
   "cell_type": "code",
   "execution_count": 63,
   "id": "interesting-married",
   "metadata": {},
   "outputs": [
    {
     "data": {
      "image/png": "[encoded data removed]",
      "text/plain": [
       "<Figure size 432x288 with 1 Axes>"
      ]
     },
     "metadata": {
      "needs_background": "light"
     },
     "output_type": "display_data"
    }
   ],
   "source": [
    "x = range(0,10)\n",
    "y = loss_list\n",
    "plt.plot(x, y,color='r')\n",
    "plt.xlabel('Modal')\n",
    "plt.ylabel('Loss')\n",
    "plt.title('Result of Models')\n",
    "plt.show()"
   ]
  },
  {
   "cell_type": "markdown",
   "id": "personalized-tamil",
   "metadata": {},
   "source": [
    "### Activation Function "
   ]
  },
  {
   "cell_type": "markdown",
   "id": "weighted-content",
   "metadata": {},
   "source": [
    "| relu | sigmoid | softmax |\n",
    "| --- | --- | --- |\n",
    "| 14 | 23 | 41 |"
   ]
  },
  {
   "cell_type": "markdown",
   "id": "dietary-sympathy",
   "metadata": {},
   "source": [
    "Softmax function is the best for my modal."
   ]
  },
  {
   "cell_type": "markdown",
   "id": "intense-charter",
   "metadata": {},
   "source": [
    "### Optimizer"
   ]
  },
  {
   "cell_type": "markdown",
   "id": "greenhouse-postcard",
   "metadata": {},
   "source": [
    "| Adam | SGD | Nadam | Adadelta\n",
    "| --- | --- | --- | --- |\n",
    "| 5 | 5 | 6 | 15 |"
   ]
  },
  {
   "cell_type": "markdown",
   "id": "reported-render",
   "metadata": {},
   "source": [
    "Best optimizer is Adadelta"
   ]
  },
  {
   "cell_type": "markdown",
   "id": "developed-riding",
   "metadata": {},
   "source": [
    "### Learning Rate "
   ]
  },
  {
   "cell_type": "markdown",
   "id": "knowing-budapest",
   "metadata": {},
   "source": [
    "| LR = 0.01 | LR = 0.05 | LR = 0.1 |\n",
    "| --- | --- | --- |\n",
    "| 14 | 14 | 5 |"
   ]
  },
  {
   "cell_type": "markdown",
   "id": "formed-freeware",
   "metadata": {},
   "source": [
    "Big learning rate is not good for my modal."
   ]
  },
  {
   "cell_type": "markdown",
   "id": "civic-prior",
   "metadata": {},
   "source": [
    "##  2) One Hidden Layer"
   ]
  },
  {
   "cell_type": "code",
   "execution_count": 64,
   "id": "seventh-victor",
   "metadata": {},
   "outputs": [
    {
     "name": "stdout",
     "output_type": "stream",
     "text": [
      "Epoch 1/10\n",
      "16/16 [==============================] - 4s 193ms/step - loss: 12.2758 - accuracy: 0.0932\n",
      "Epoch 2/10\n",
      "16/16 [==============================] - 3s 202ms/step - loss: 12.4809 - accuracy: 0.1003\n",
      "Epoch 3/10\n",
      "16/16 [==============================] - 3s 182ms/step - loss: 12.4809 - accuracy: 0.1003\n",
      "Epoch 4/10\n",
      "16/16 [==============================] - 3s 176ms/step - loss: 12.4809 - accuracy: 0.1003\n",
      "Epoch 5/10\n",
      "16/16 [==============================] - 3s 173ms/step - loss: 12.4809 - accuracy: 0.1003\n",
      "Epoch 6/10\n",
      "16/16 [==============================] - 3s 185ms/step - loss: 12.4809 - accuracy: 0.1003\n",
      "Epoch 7/10\n",
      "16/16 [==============================] - 3s 186ms/step - loss: 12.4809 - accuracy: 0.1003\n",
      "Epoch 8/10\n",
      "16/16 [==============================] - 3s 171ms/step - loss: 12.4809 - accuracy: 0.1003\n",
      "Epoch 9/10\n",
      "16/16 [==============================] - 3s 172ms/step - loss: 12.4809 - accuracy: 0.1003\n",
      "Epoch 10/10\n",
      "16/16 [==============================] - 3s 207ms/step - loss: 12.4809 - accuracy: 0.1003\n"
     ]
    }
   ],
   "source": [
    "model2_1 = Sequential() #One Hidden Layer with learning rate 0.05\n",
    "\n",
    "model2_1.add(Conv2D(256,(3,3), activation='relu', input_shape=(8, 8, 3))) #input layer\n",
    "model2_1.add(MaxPool2D((2, 2)))\n",
    "model2_1.add(Conv2D(512,(3,3), activation='relu')) #hidden layer\n",
    "model2_1.add(MaxPool2D((1, 1)))\n",
    "model2_1.add(Flatten())\n",
    "model2_1.add(Dense(10, activation='relu')) #output layer\n",
    "learning_rate = 0.05\n",
    "model2_1.compile(optimizer=Adam(learning_rate),\n",
    "              loss='sparse_categorical_crossentropy',\n",
    "              metrics=['accuracy'])\n",
    "fit = model2_1.fit(X_train, y_train, epochs=10, batch_size = 64)"
   ]
  },
  {
   "cell_type": "code",
   "execution_count": 65,
   "id": "running-things",
   "metadata": {},
   "outputs": [
    {
     "name": "stdout",
     "output_type": "stream",
     "text": [
      "Test Accuracy is 0.06\n",
      "Test Loss is 11.94\n"
     ]
    }
   ],
   "source": [
    "test_loss2_1, test_acc2_1 = model2_1.evaluate(X_test,\n",
    "                                     y_test,\n",
    "                                     verbose=10)\n",
    "print('Test Accuracy is', \"{:.2f}\".format(test_acc2_1))\n",
    "print('Test Loss is',\"{:.2f}\".format(test_loss2_1))"
   ]
  },
  {
   "cell_type": "code",
   "execution_count": 66,
   "id": "three-taste",
   "metadata": {},
   "outputs": [
    {
     "name": "stdout",
     "output_type": "stream",
     "text": [
      "Epoch 1/10\n",
      "16/16 [==============================] - 3s 180ms/step - loss: 11.9330 - accuracy: 0.0932\n",
      "Epoch 2/10\n",
      "16/16 [==============================] - 3s 188ms/step - loss: 12.3176 - accuracy: 0.0963\n",
      "Epoch 3/10\n",
      "16/16 [==============================] - 3s 199ms/step - loss: 12.3176 - accuracy: 0.0963\n",
      "Epoch 4/10\n",
      "16/16 [==============================] - 3s 198ms/step - loss: 12.3176 - accuracy: 0.0963\n",
      "Epoch 5/10\n",
      "16/16 [==============================] - 3s 180ms/step - loss: 12.3176 - accuracy: 0.0963\n",
      "Epoch 6/10\n",
      "16/16 [==============================] - 3s 162ms/step - loss: 12.3176 - accuracy: 0.0963\n",
      "Epoch 7/10\n",
      "16/16 [==============================] - 3s 170ms/step - loss: 12.3176 - accuracy: 0.0963\n",
      "Epoch 8/10\n",
      "16/16 [==============================] - 3s 204ms/step - loss: 12.3176 - accuracy: 0.0963\n",
      "Epoch 9/10\n",
      "16/16 [==============================] - 4s 225ms/step - loss: 12.3176 - accuracy: 0.0963\n",
      "Epoch 10/10\n",
      "16/16 [==============================] - 3s 188ms/step - loss: 12.3176 - accuracy: 0.0963\n"
     ]
    }
   ],
   "source": [
    "model2_2 = Sequential() #One Hidden Layer with learning rate 0.01\n",
    "\n",
    "model2_2.add(Conv2D(256,(3,3), activation='relu', input_shape=(8, 8, 3))) #input layer\n",
    "model2_2.add(MaxPool2D((2, 2)))\n",
    "model2_2.add(Conv2D(512,(3,3), activation='relu')) #hidden layer\n",
    "model2_2.add(MaxPool2D((1, 1)))\n",
    "model2_2.add(Flatten())\n",
    "model2_2.add(Dense(10, activation='relu')) #output layer\n",
    "learning_rate = 0.01\n",
    "model2_2.compile(optimizer=Adam(learning_rate),\n",
    "              loss='sparse_categorical_crossentropy',\n",
    "              metrics=['accuracy'])\n",
    "fit = model2_2.fit(X_train, y_train, epochs=10, batch_size = 64)"
   ]
  },
  {
   "cell_type": "code",
   "execution_count": 67,
   "id": "color-legislation",
   "metadata": {},
   "outputs": [
    {
     "name": "stdout",
     "output_type": "stream",
     "text": [
      "Test Accuracy is 0.10\n",
      "Test Loss is 13.55\n"
     ]
    }
   ],
   "source": [
    "test_loss2_2, test_acc2_2 = model2_2.evaluate(X_test,\n",
    "                                     y_test,\n",
    "                                     verbose=10)\n",
    "print('Test Accuracy is', \"{:.2f}\".format(test_acc2_2))\n",
    "print('Test Loss is',\"{:.2f}\".format(test_loss2_2))"
   ]
  },
  {
   "cell_type": "code",
   "execution_count": 68,
   "id": "compressed-davis",
   "metadata": {},
   "outputs": [
    {
     "name": "stdout",
     "output_type": "stream",
     "text": [
      "Epoch 1/10\n",
      "16/16 [==============================] - 1s 43ms/step - loss: 9.5719 - accuracy: 0.0922\n",
      "Epoch 2/10\n",
      "16/16 [==============================] - 1s 37ms/step - loss: 9.8563 - accuracy: 0.0912\n",
      "Epoch 3/10\n",
      "16/16 [==============================] - 1s 38ms/step - loss: 9.8563 - accuracy: 0.0912\n",
      "Epoch 4/10\n",
      "16/16 [==============================] - 1s 37ms/step - loss: 9.8563 - accuracy: 0.0912\n",
      "Epoch 5/10\n",
      "16/16 [==============================] - 1s 40ms/step - loss: 9.8563 - accuracy: 0.0912\n",
      "Epoch 6/10\n",
      "16/16 [==============================] - 1s 36ms/step - loss: 9.8563 - accuracy: 0.0912\n",
      "Epoch 7/10\n",
      "16/16 [==============================] - 1s 37ms/step - loss: 9.8563 - accuracy: 0.0912\n",
      "Epoch 8/10\n",
      "16/16 [==============================] - 1s 43ms/step - loss: 9.8563 - accuracy: 0.0912\n",
      "Epoch 9/10\n",
      "16/16 [==============================] - 1s 47ms/step - loss: 9.8563 - accuracy: 0.0912\n",
      "Epoch 10/10\n",
      "16/16 [==============================] - 1s 36ms/step - loss: 9.8563 - accuracy: 0.0912\n"
     ]
    }
   ],
   "source": [
    "model2_3 = Sequential() #One Hidden Layer with hidden layer size 128\n",
    "\n",
    "model2_3.add(Conv2D(256,(3,3), activation='relu', input_shape=(8, 8, 3))) #input layer\n",
    "model2_3.add(MaxPool2D((2, 2)))\n",
    "model2_3.add(Conv2D(128,(3,3), activation='relu')) #hidden layer\n",
    "model2_3.add(MaxPool2D((1, 1)))\n",
    "model2_3.add(Flatten())\n",
    "model2_3.add(Dense(10, activation='relu')) #output layer\n",
    "learning_rate = 0.05\n",
    "model2_3.compile(optimizer=Adam(learning_rate),\n",
    "              loss='sparse_categorical_crossentropy',\n",
    "              metrics=['accuracy'])\n",
    "fit = model2_3.fit(X_train, y_train, epochs=10, batch_size = 64)"
   ]
  },
  {
   "cell_type": "code",
   "execution_count": 69,
   "id": "animated-criminal",
   "metadata": {},
   "outputs": [
    {
     "name": "stdout",
     "output_type": "stream",
     "text": [
      "Test Accuracy is 0.14\n",
      "Test Loss is 9.38\n"
     ]
    }
   ],
   "source": [
    "test_loss2_3, test_acc2_3 = model2_3.evaluate(X_test,\n",
    "                                     y_test,\n",
    "                                     verbose=10)\n",
    "print('Test Accuracy is', \"{:.2f}\".format(test_acc2_3))\n",
    "print('Test Loss is',\"{:.2f}\".format(test_loss2_3))"
   ]
  },
  {
   "cell_type": "code",
   "execution_count": 70,
   "id": "compact-skirt",
   "metadata": {},
   "outputs": [
    {
     "name": "stdout",
     "output_type": "stream",
     "text": [
      "Epoch 1/10\n",
      "16/16 [==============================] - 2s 74ms/step - loss: 9.4279 - accuracy: 0.1033\n",
      "Epoch 2/10\n",
      "16/16 [==============================] - 1s 68ms/step - loss: 9.5133 - accuracy: 0.1003\n",
      "Epoch 3/10\n",
      "16/16 [==============================] - 1s 69ms/step - loss: 9.5133 - accuracy: 0.1003\n",
      "Epoch 4/10\n",
      "16/16 [==============================] - 1s 67ms/step - loss: 9.5133 - accuracy: 0.1003\n",
      "Epoch 5/10\n",
      "16/16 [==============================] - 1s 75ms/step - loss: 9.5133 - accuracy: 0.1003\n",
      "Epoch 6/10\n",
      "16/16 [==============================] - 1s 75ms/step - loss: 9.5133 - accuracy: 0.1003\n",
      "Epoch 7/10\n",
      "16/16 [==============================] - 1s 92ms/step - loss: 9.5133 - accuracy: 0.1003\n",
      "Epoch 8/10\n",
      "16/16 [==============================] - 1s 80ms/step - loss: 9.5133 - accuracy: 0.1003\n",
      "Epoch 9/10\n",
      "16/16 [==============================] - 1s 74ms/step - loss: 9.5133 - accuracy: 0.1003\n",
      "Epoch 10/10\n",
      "16/16 [==============================] - 1s 67ms/step - loss: 9.5133 - accuracy: 0.1003\n"
     ]
    }
   ],
   "source": [
    "model2_4 = Sequential() #One Hidden Layer with hidden layer size 256\n",
    "\n",
    "model2_4.add(Conv2D(256,(3,3), activation='relu', input_shape=(8, 8, 3))) #input layer\n",
    "model2_4.add(MaxPool2D((2, 2)))\n",
    "model2_4.add(Conv2D(256,(3,3), activation='relu')) #hidden layer\n",
    "model2_4.add(MaxPool2D((1, 1)))\n",
    "model2_4.add(Flatten())\n",
    "model2_4.add(Dense(10, activation='relu')) #output layer\n",
    "model2_4.add(Dense(10, activation='relu'))\n",
    "learning_rate = 0.05\n",
    "model2_4.compile(optimizer=Adam(learning_rate),\n",
    "              loss='sparse_categorical_crossentropy',\n",
    "              metrics=['accuracy'])\n",
    "fit = model2_4.fit(X_train, y_train, epochs=10, batch_size = 64)"
   ]
  },
  {
   "cell_type": "code",
   "execution_count": 71,
   "id": "promising-extreme",
   "metadata": {},
   "outputs": [
    {
     "name": "stdout",
     "output_type": "stream",
     "text": [
      "Test Accuracy is 0.05\n",
      "Test Loss is 9.96\n"
     ]
    }
   ],
   "source": [
    "test_loss2_4, test_acc2_4 = model2_4.evaluate(X_test,\n",
    "                                     y_test,\n",
    "                                     verbose=10)\n",
    "print('Test Accuracy is', \"{:.2f}\".format(test_acc2_4))\n",
    "print('Test Loss is',\"{:.2f}\".format(test_loss2_4))"
   ]
  },
  {
   "cell_type": "code",
   "execution_count": 72,
   "id": "competent-donna",
   "metadata": {},
   "outputs": [
    {
     "name": "stdout",
     "output_type": "stream",
     "text": [
      "Epoch 1/10\n",
      "16/16 [==============================] - 4s 187ms/step - loss: 15.4911 - accuracy: 0.0780\n",
      "Epoch 2/10\n",
      "16/16 [==============================] - 3s 189ms/step - loss: 7.7845 - accuracy: 0.0892\n",
      "Epoch 3/10\n",
      "16/16 [==============================] - 4s 219ms/step - loss: 4.3081 - accuracy: 0.0932\n",
      "Epoch 4/10\n",
      "16/16 [==============================] - 3s 187ms/step - loss: 2.8754 - accuracy: 0.0993\n",
      "Epoch 5/10\n",
      "16/16 [==============================] - 3s 185ms/step - loss: 2.6214 - accuracy: 0.0952\n",
      "Epoch 6/10\n",
      "16/16 [==============================] - 3s 176ms/step - loss: 2.7182 - accuracy: 0.0942\n",
      "Epoch 7/10\n",
      "16/16 [==============================] - 3s 168ms/step - loss: 2.6933 - accuracy: 0.10641s - loss: 2.5\n",
      "Epoch 8/10\n",
      "16/16 [==============================] - 3s 193ms/step - loss: 2.6802 - accuracy: 0.1196\n",
      "Epoch 9/10\n",
      "16/16 [==============================] - 3s 190ms/step - loss: 2.9527 - accuracy: 0.0902\n",
      "Epoch 10/10\n",
      "16/16 [==============================] - 4s 228ms/step - loss: 2.7803 - accuracy: 0.1023\n"
     ]
    }
   ],
   "source": [
    "model2_5 = Sequential() #One Hidden Layer with sigmoid activation function\n",
    "\n",
    "model2_5.add(Conv2D(256,(3,3), activation='sigmoid', input_shape=(8, 8, 3))) #input layer\n",
    "model2_5.add(MaxPool2D((2, 2)))\n",
    "model2_5.add(Conv2D(512,(3,3), activation='sigmoid')) #hidden layer\n",
    "model2_5.add(MaxPool2D((1, 1)))\n",
    "model2_5.add(Flatten())\n",
    "model2_5.add(Dense(10, activation='sigmoid')) #output layer\n",
    "learning_rate = 0.05\n",
    "model2_5.compile(optimizer=Adam(learning_rate),\n",
    "              loss='sparse_categorical_crossentropy',\n",
    "              metrics=['accuracy'])\n",
    "fit = model2_5.fit(X_train, y_train, epochs=10, batch_size = 64)"
   ]
  },
  {
   "cell_type": "code",
   "execution_count": 73,
   "id": "geological-transfer",
   "metadata": {},
   "outputs": [
    {
     "name": "stdout",
     "output_type": "stream",
     "text": [
      "Test Accuracy is 0.10\n",
      "Test Loss is 2.80\n"
     ]
    }
   ],
   "source": [
    "test_loss2_5, test_acc2_5 = model2_5.evaluate(X_test,\n",
    "                                     y_test,\n",
    "                                     verbose=10)\n",
    "print('Test Accuracy is', \"{:.2f}\".format(test_acc2_5))\n",
    "print('Test Loss is',\"{:.2f}\".format(test_loss2_5))"
   ]
  },
  {
   "cell_type": "code",
   "execution_count": 74,
   "id": "verified-japan",
   "metadata": {},
   "outputs": [
    {
     "name": "stdout",
     "output_type": "stream",
     "text": [
      "Epoch 1/10\n",
      "16/16 [==============================] - 4s 203ms/step - loss: 2.3164 - accuracy: 0.0983\n",
      "Epoch 2/10\n",
      "16/16 [==============================] - 3s 201ms/step - loss: 2.3128 - accuracy: 0.1033\n",
      "Epoch 3/10\n",
      "16/16 [==============================] - 3s 195ms/step - loss: 2.3054 - accuracy: 0.1196\n",
      "Epoch 4/10\n",
      "16/16 [==============================] - 3s 194ms/step - loss: 2.2568 - accuracy: 0.1651\n",
      "Epoch 5/10\n",
      "16/16 [==============================] - 3s 192ms/step - loss: 2.1894 - accuracy: 0.1966\n",
      "Epoch 6/10\n",
      "16/16 [==============================] - 3s 206ms/step - loss: 2.0669 - accuracy: 0.2482\n",
      "Epoch 7/10\n",
      "16/16 [==============================] - 3s 204ms/step - loss: 1.9333 - accuracy: 0.2989\n",
      "Epoch 8/10\n",
      "16/16 [==============================] - 3s 183ms/step - loss: 1.8689 - accuracy: 0.3232\n",
      "Epoch 9/10\n",
      "16/16 [==============================] - 3s 197ms/step - loss: 1.8336 - accuracy: 0.3273\n",
      "Epoch 10/10\n",
      "16/16 [==============================] - 3s 196ms/step - loss: 1.7154 - accuracy: 0.4022\n"
     ]
    }
   ],
   "source": [
    "model2_6 = Sequential() #One Hidden Layer with softmax activation function\n",
    "\n",
    "model2_6.add(Conv2D(256,(3,3), activation='softmax', input_shape=(8, 8, 3))) #input layer\n",
    "model2_6.add(MaxPool2D((2, 2)))\n",
    "model2_6.add(Conv2D(512,(3,3), activation='softmax')) #hidden layer\n",
    "model2_6.add(MaxPool2D((1, 1)))\n",
    "model2_6.add(Flatten())\n",
    "model2_6.add(Dense(10, activation='softmax')) #output layer\n",
    "learning_rate = 0.05\n",
    "model2_6.compile(optimizer=Adam(learning_rate),\n",
    "              loss='sparse_categorical_crossentropy',\n",
    "              metrics=['accuracy'])\n",
    "fit = model2_6.fit(X_train, y_train, epochs=10, batch_size = 64)"
   ]
  },
  {
   "cell_type": "code",
   "execution_count": 75,
   "id": "objective-afternoon",
   "metadata": {},
   "outputs": [
    {
     "name": "stdout",
     "output_type": "stream",
     "text": [
      "Test Accuracy is 0.37\n",
      "Test Loss is 1.83\n"
     ]
    }
   ],
   "source": [
    "test_loss2_6, test_acc2_6 = model2_6.evaluate(X_test,\n",
    "                                     y_test,\n",
    "                                     verbose=10)\n",
    "print('Test Accuracy is', \"{:.2f}\".format(test_acc2_6))\n",
    "print('Test Loss is',\"{:.2f}\".format(test_loss2_6))"
   ]
  },
  {
   "cell_type": "code",
   "execution_count": 76,
   "id": "light-corps",
   "metadata": {},
   "outputs": [
    {
     "name": "stdout",
     "output_type": "stream",
     "text": [
      "Epoch 1/10\n",
      "16/16 [==============================] - 4s 205ms/step - loss: 7676.1455 - accuracy: 0.1023\n",
      "Epoch 2/10\n",
      "16/16 [==============================] - 3s 221ms/step - loss: 26.2236 - accuracy: 0.1044\n",
      "Epoch 3/10\n",
      "16/16 [==============================] - 3s 181ms/step - loss: 26.1928 - accuracy: 0.1044\n",
      "Epoch 4/10\n",
      "16/16 [==============================] - 3s 170ms/step - loss: 26.1548 - accuracy: 0.1044\n",
      "Epoch 5/10\n",
      "16/16 [==============================] - 3s 161ms/step - loss: 26.1511 - accuracy: 0.1044\n",
      "Epoch 6/10\n",
      "16/16 [==============================] - 3s 169ms/step - loss: 26.1455 - accuracy: 0.1044\n",
      "Epoch 7/10\n",
      "16/16 [==============================] - 3s 167ms/step - loss: 26.1309 - accuracy: 0.1044\n",
      "Epoch 8/10\n",
      "16/16 [==============================] - 3s 174ms/step - loss: 26.1339 - accuracy: 0.1044\n",
      "Epoch 9/10\n",
      "16/16 [==============================] - 3s 195ms/step - loss: 26.1345 - accuracy: 0.1044\n",
      "Epoch 10/10\n",
      "16/16 [==============================] - 3s 193ms/step - loss: 26.1455 - accuracy: 0.1044\n"
     ]
    }
   ],
   "source": [
    "model2_7 = Sequential() #One Hidden Layer with mse loss function\n",
    "\n",
    "model2_7.add(Conv2D(256,(3,3), activation='relu', input_shape=(8, 8, 3))) #input layer\n",
    "model2_7.add(MaxPool2D((2, 2)))\n",
    "model2_7.add(Conv2D(512,(3,3), activation='relu')) #hidden layer\n",
    "model2_7.add(MaxPool2D((1, 1)))\n",
    "model2_7.add(Flatten())\n",
    "model2_7.add(Dense(10, activation='relu')) #output layer\n",
    "learning_rate = 0.05\n",
    "model2_7.compile(optimizer=Adam(learning_rate),\n",
    "              loss='mse',\n",
    "              metrics=['accuracy'])\n",
    "fit = model2_7.fit(X_train, y_train, epochs=10, batch_size = 64)"
   ]
  },
  {
   "cell_type": "code",
   "execution_count": 77,
   "id": "hybrid-symposium",
   "metadata": {},
   "outputs": [
    {
     "name": "stdout",
     "output_type": "stream",
     "text": [
      "Test Accuracy is 0.06\n",
      "Test Loss is 25.74\n"
     ]
    }
   ],
   "source": [
    "test_loss2_7, test_acc2_7 = model2_7.evaluate(X_test,\n",
    "                                     y_test,\n",
    "                                     verbose=10)\n",
    "print('Test Accuracy is', \"{:.2f}\".format(test_acc2_7))\n",
    "print('Test Loss is',\"{:.2f}\".format(test_loss2_7))"
   ]
  },
  {
   "cell_type": "code",
   "execution_count": 78,
   "id": "minimal-compensation",
   "metadata": {},
   "outputs": [
    {
     "name": "stdout",
     "output_type": "stream",
     "text": [
      "Epoch 1/10\n",
      "16/16 [==============================] - 4s 191ms/step - loss: 7.4881 - accuracy: 0.0963\n",
      "Epoch 2/10\n",
      "16/16 [==============================] - 3s 180ms/step - loss: 7.9810 - accuracy: 0.1044\n",
      "Epoch 3/10\n",
      "16/16 [==============================] - 3s 185ms/step - loss: 7.9810 - accuracy: 0.1044\n",
      "Epoch 4/10\n",
      "16/16 [==============================] - 3s 213ms/step - loss: 7.9810 - accuracy: 0.1044\n",
      "Epoch 5/10\n",
      "16/16 [==============================] - 3s 179ms/step - loss: 7.9810 - accuracy: 0.1044\n",
      "Epoch 6/10\n",
      "16/16 [==============================] - 3s 197ms/step - loss: 7.9810 - accuracy: 0.1044\n",
      "Epoch 7/10\n",
      "16/16 [==============================] - 3s 191ms/step - loss: 7.9810 - accuracy: 0.1044\n",
      "Epoch 8/10\n",
      "16/16 [==============================] - 3s 198ms/step - loss: 7.9810 - accuracy: 0.1044\n",
      "Epoch 9/10\n",
      "16/16 [==============================] - 3s 202ms/step - loss: 7.9810 - accuracy: 0.1044\n",
      "Epoch 10/10\n",
      "16/16 [==============================] - 3s 188ms/step - loss: 7.9810 - accuracy: 0.1044\n"
     ]
    }
   ],
   "source": [
    "model2_8 = Sequential() #One Hidden Layer with SGD optimizer\n",
    "\n",
    "model2_8.add(Conv2D(256,(3,3), activation='relu', input_shape=(8, 8, 3))) #input layer\n",
    "model2_8.add(MaxPool2D((2, 2)))\n",
    "model2_8.add(Conv2D(512,(3,3), activation='relu')) #hidden layer\n",
    "model2_8.add(MaxPool2D((1, 1)))\n",
    "model2_8.add(Flatten())\n",
    "model2_8.add(Dense(10, activation='relu')) #output layer\n",
    "learning_rate = 0.05\n",
    "model2_8.compile(optimizer=SGD(learning_rate),\n",
    "              loss='sparse_categorical_crossentropy',\n",
    "              metrics=['accuracy'])\n",
    "fit = model2_8.fit(X_train, y_train, epochs=10, batch_size = 64)"
   ]
  },
  {
   "cell_type": "code",
   "execution_count": 79,
   "id": "satellite-composer",
   "metadata": {},
   "outputs": [
    {
     "name": "stdout",
     "output_type": "stream",
     "text": [
      "Test Accuracy is 0.06\n",
      "Test Loss is 10.14\n"
     ]
    }
   ],
   "source": [
    "test_loss2_8, test_acc2_8 = model2_8.evaluate(X_test,\n",
    "                                     y_test,\n",
    "                                     verbose=10)\n",
    "print('Test Accuracy is', \"{:.2f}\".format(test_acc2_8))\n",
    "print('Test Loss is',\"{:.2f}\".format(test_loss2_8))"
   ]
  },
  {
   "cell_type": "code",
   "execution_count": 80,
   "id": "italic-shift",
   "metadata": {},
   "outputs": [],
   "source": [
    "accuracy_list2 = []\n",
    "loss_list2 = []\n",
    "accuracy_list2.append(test_acc2_1)\n",
    "accuracy_list2.append(test_acc2_2)\n",
    "accuracy_list2.append(test_acc2_3)\n",
    "accuracy_list2.append(test_acc2_4)\n",
    "accuracy_list2.append(test_acc2_5)\n",
    "accuracy_list2.append(test_acc2_6)\n",
    "accuracy_list2.append(test_acc2_7)\n",
    "accuracy_list2.append(test_acc2_8)\n",
    "loss_list2.append(test_loss2_1)\n",
    "loss_list2.append(test_loss2_2)\n",
    "loss_list2.append(test_loss2_3)\n",
    "loss_list2.append(test_loss2_4)\n",
    "loss_list2.append(test_loss2_5)\n",
    "loss_list2.append(test_loss2_6)\n",
    "loss_list2.append(test_loss2_7)\n",
    "loss_list2.append(test_loss2_8)"
   ]
  },
  {
   "cell_type": "markdown",
   "id": "statutory-crash",
   "metadata": {},
   "source": [
    "## Results"
   ]
  },
  {
   "cell_type": "code",
   "execution_count": 81,
   "id": "retired-survivor",
   "metadata": {},
   "outputs": [
    {
     "data": {
      "image/png": "[encoded data removed]",
      "text/plain": [
       "<Figure size 432x288 with 1 Axes>"
      ]
     },
     "metadata": {
      "needs_background": "light"
     },
     "output_type": "display_data"
    }
   ],
   "source": [
    "x = range(0,8)\n",
    "y = accuracy_list2\n",
    "\n",
    "plt.plot(x, y, color ='g')\n",
    "plt.xlabel('Modal')\n",
    "plt.ylabel('Accuracy')\n",
    "plt.title('Result of Models')\n",
    "plt.show()"
   ]
  },
  {
   "cell_type": "code",
   "execution_count": 82,
   "id": "sublime-entry",
   "metadata": {},
   "outputs": [
    {
     "data": {
      "image/png": "[encoded data removed]",
      "text/plain": [
       "<Figure size 432x288 with 1 Axes>"
      ]
     },
     "metadata": {
      "needs_background": "light"
     },
     "output_type": "display_data"
    }
   ],
   "source": [
    "x = range(0,8)\n",
    "y = loss_list2\n",
    "plt.plot(x, y,color = 'r')\n",
    "plt.xlabel('Modal')\n",
    "plt.ylabel('Loss')\n",
    "plt.title('Result of Models')\n",
    "plt.show()"
   ]
  },
  {
   "cell_type": "markdown",
   "id": "embedded-hungarian",
   "metadata": {},
   "source": [
    "### Layer Size"
   ]
  },
  {
   "cell_type": "markdown",
   "id": "enhanced-praise",
   "metadata": {},
   "source": [
    "| LS = 128 | LS = 256 | \n",
    "| --- | --- |\n",
    "| 6 | 14 |"
   ]
  },
  {
   "cell_type": "markdown",
   "id": "inclusive-colleague",
   "metadata": {},
   "source": [
    "Big layer size is better for my modal"
   ]
  },
  {
   "cell_type": "markdown",
   "id": "ancient-fraction",
   "metadata": {},
   "source": [
    "### Objective Function"
   ]
  },
  {
   "cell_type": "markdown",
   "id": "macro-commissioner",
   "metadata": {},
   "source": [
    "| Sparse Categorical | MSE | \n",
    "| --- | --- |\n",
    "| 6 | 6 |"
   ]
  },
  {
   "cell_type": "markdown",
   "id": "ceramic-talent",
   "metadata": {},
   "source": [
    "Objective function didn't effect to my modal"
   ]
  },
  {
   "cell_type": "markdown",
   "id": "brown-liabilities",
   "metadata": {},
   "source": [
    "##  3) Two Hidden Layers "
   ]
  },
  {
   "cell_type": "code",
   "execution_count": 83,
   "id": "roman-wichita",
   "metadata": {},
   "outputs": [
    {
     "name": "stdout",
     "output_type": "stream",
     "text": [
      "Epoch 1/10\n",
      "16/16 [==============================] - 5s 252ms/step - loss: 2.7752 - accuracy: 0.0892\n",
      "Epoch 2/10\n",
      "16/16 [==============================] - 3s 201ms/step - loss: 2.3026 - accuracy: 0.0912\n",
      "Epoch 3/10\n",
      "16/16 [==============================] - 3s 172ms/step - loss: 2.3026 - accuracy: 0.0912\n",
      "Epoch 4/10\n",
      "16/16 [==============================] - 3s 182ms/step - loss: 2.3026 - accuracy: 0.0912\n",
      "Epoch 5/10\n",
      "16/16 [==============================] - 3s 175ms/step - loss: 2.3026 - accuracy: 0.0912\n",
      "Epoch 6/10\n",
      "16/16 [==============================] - 3s 171ms/step - loss: 2.3026 - accuracy: 0.0912\n",
      "Epoch 7/10\n",
      "16/16 [==============================] - 3s 180ms/step - loss: 2.3026 - accuracy: 0.0912\n",
      "Epoch 8/10\n",
      "16/16 [==============================] - 3s 185ms/step - loss: 2.3026 - accuracy: 0.0912\n",
      "Epoch 9/10\n",
      "16/16 [==============================] - 3s 176ms/step - loss: 2.3026 - accuracy: 0.0912\n",
      "Epoch 10/10\n",
      "16/16 [==============================] - 3s 196ms/step - loss: 2.3026 - accuracy: 0.0912\n"
     ]
    }
   ],
   "source": [
    "model3_1 = Sequential() #Two Hidden Layers with learning rate 0.05\n",
    "\n",
    "model3_1.add(Conv2D(256,(3,3), activation='relu', input_shape=(8, 8, 3))) #input layer\n",
    "model3_1.add(MaxPool2D((2, 2)))\n",
    "model3_1.add(Conv2D(512,(3,3), activation='relu')) #first hidden layer\n",
    "model3_1.add(MaxPool2D((1, 1)))\n",
    "model3_1.add(Flatten())\n",
    "model3_1.add(Dense(64,activation ='relu')) #second hidden layer\n",
    "model3_1.add(Dense(10, activation='relu')) #output layer\n",
    "learning_rate = 0.05\n",
    "model3_1.compile(optimizer=Adam(learning_rate),\n",
    "              loss='sparse_categorical_crossentropy',\n",
    "              metrics=['accuracy'])\n",
    "fit = model3_1.fit(X_train, y_train, epochs=10, batch_size = 64)"
   ]
  },
  {
   "cell_type": "code",
   "execution_count": 84,
   "id": "genuine-hometown",
   "metadata": {},
   "outputs": [
    {
     "name": "stdout",
     "output_type": "stream",
     "text": [
      "Test Accuracy is 0.14\n",
      "Test Loss is 2.30\n"
     ]
    }
   ],
   "source": [
    "test_loss3_1, test_acc3_1 = model3_1.evaluate(X_test,\n",
    "                                     y_test,\n",
    "                                     verbose=10)\n",
    "print('Test Accuracy is', \"{:.2f}\".format(test_acc3_1))\n",
    "print('Test Loss is',\"{:.2f}\".format(test_loss3_1))"
   ]
  },
  {
   "cell_type": "code",
   "execution_count": 85,
   "id": "protected-cooper",
   "metadata": {},
   "outputs": [
    {
     "name": "stdout",
     "output_type": "stream",
     "text": [
      "Epoch 1/10\n",
      "16/16 [==============================] - 4s 197ms/step - loss: 4.3370 - accuracy: 0.0851\n",
      "Epoch 2/10\n",
      "16/16 [==============================] - 3s 186ms/step - loss: 2.3026 - accuracy: 0.0912\n",
      "Epoch 3/10\n",
      "16/16 [==============================] - 3s 183ms/step - loss: 2.3026 - accuracy: 0.0912\n",
      "Epoch 4/10\n",
      "16/16 [==============================] - 3s 196ms/step - loss: 2.3026 - accuracy: 0.0912\n",
      "Epoch 5/10\n",
      "16/16 [==============================] - 3s 179ms/step - loss: 2.3026 - accuracy: 0.0912\n",
      "Epoch 6/10\n",
      "16/16 [==============================] - 3s 186ms/step - loss: 2.3026 - accuracy: 0.0912\n",
      "Epoch 7/10\n",
      "16/16 [==============================] - 3s 189ms/step - loss: 2.3026 - accuracy: 0.0912\n",
      "Epoch 8/10\n",
      "16/16 [==============================] - 3s 203ms/step - loss: 2.3026 - accuracy: 0.0912\n",
      "Epoch 9/10\n",
      "16/16 [==============================] - 3s 181ms/step - loss: 2.3026 - accuracy: 0.0912\n",
      "Epoch 10/10\n",
      "16/16 [==============================] - 3s 200ms/step - loss: 2.3026 - accuracy: 0.0912\n"
     ]
    }
   ],
   "source": [
    "model3_2 = Sequential() #Two Hidden Layers with learning rate 0.01\n",
    "\n",
    "model3_2.add(Conv2D(256,(3,3), activation='relu', input_shape=(8, 8, 3))) #input layer\n",
    "model3_2.add(MaxPool2D((2, 2)))\n",
    "model3_2.add(Conv2D(512,(3,3), activation='relu')) #first hidden layer\n",
    "model3_2.add(MaxPool2D((1, 1)))\n",
    "model3_2.add(Flatten())\n",
    "model3_2.add(Dense(64,activation ='relu')) #second hidden layer\n",
    "model3_2.add(Dense(10, activation='relu')) #output layer\n",
    "learning_rate = 0.01\n",
    "model3_2.compile(optimizer=Adam(learning_rate),\n",
    "              loss='sparse_categorical_crossentropy',\n",
    "              metrics=['accuracy'])\n",
    "fit = model3_2.fit(X_train, y_train, epochs=10, batch_size = 64)"
   ]
  },
  {
   "cell_type": "code",
   "execution_count": 86,
   "id": "naval-kazakhstan",
   "metadata": {},
   "outputs": [
    {
     "name": "stdout",
     "output_type": "stream",
     "text": [
      "Test Accuracy is 0.14\n",
      "Test Loss is 2.30\n"
     ]
    }
   ],
   "source": [
    "test_loss3_2, test_acc3_2 = model3_2.evaluate(X_test,\n",
    "                                     y_test,\n",
    "                                     verbose=10)\n",
    "print('Test Accuracy is', \"{:.2f}\".format(test_acc3_2))\n",
    "print('Test Loss is',\"{:.2f}\".format(test_loss3_2))"
   ]
  },
  {
   "cell_type": "code",
   "execution_count": 87,
   "id": "vocal-riding",
   "metadata": {},
   "outputs": [
    {
     "name": "stdout",
     "output_type": "stream",
     "text": [
      "Epoch 1/10\n",
      "16/16 [==============================] - 2s 91ms/step - loss: 10.4560 - accuracy: 0.1013\n",
      "Epoch 2/10\n",
      "16/16 [==============================] - 1s 77ms/step - loss: 11.2662 - accuracy: 0.0912\n",
      "Epoch 3/10\n",
      "16/16 [==============================] - 1s 80ms/step - loss: 11.2662 - accuracy: 0.0912\n",
      "Epoch 4/10\n",
      "16/16 [==============================] - 1s 83ms/step - loss: 11.2662 - accuracy: 0.0912\n",
      "Epoch 5/10\n",
      "16/16 [==============================] - 1s 78ms/step - loss: 11.2662 - accuracy: 0.0912\n",
      "Epoch 6/10\n",
      "16/16 [==============================] - 1s 76ms/step - loss: 11.2662 - accuracy: 0.0912\n",
      "Epoch 7/10\n",
      "16/16 [==============================] - 1s 77ms/step - loss: 11.2662 - accuracy: 0.0912\n",
      "Epoch 8/10\n",
      "16/16 [==============================] - 2s 98ms/step - loss: 11.2662 - accuracy: 0.0912\n",
      "Epoch 9/10\n",
      "16/16 [==============================] - 1s 82ms/step - loss: 11.2662 - accuracy: 0.0912\n",
      "Epoch 10/10\n",
      "16/16 [==============================] - 1s 78ms/step - loss: 11.2662 - accuracy: 0.0912\n"
     ]
    }
   ],
   "source": [
    "model3_3 = Sequential() #Two Hidden Layers with input layer size 128\n",
    "\n",
    "model3_3.add(Conv2D(128,(3,3), activation='relu', input_shape=(8, 8, 3))) #input layer\n",
    "model3_3.add(MaxPool2D((2, 2)))\n",
    "model3_3.add(Conv2D(512,(3,3), activation='relu')) #first hidden layer\n",
    "model3_3.add(MaxPool2D((1, 1)))\n",
    "model3_3.add(Flatten())\n",
    "model3_3.add(Dense(64,activation ='relu')) #second hidden layer\n",
    "model3_3.add(Dense(10, activation='relu')) #output layer\n",
    "learning_rate = 0.05\n",
    "model3_3.compile(optimizer=Adam(learning_rate),\n",
    "              loss='sparse_categorical_crossentropy',\n",
    "              metrics=['accuracy'])\n",
    "fit = model3_3.fit(X_train, y_train, epochs=10, batch_size = 64)"
   ]
  },
  {
   "cell_type": "code",
   "execution_count": 88,
   "id": "liberal-observer",
   "metadata": {},
   "outputs": [
    {
     "name": "stdout",
     "output_type": "stream",
     "text": [
      "Test Accuracy is 0.14\n",
      "Test Loss is 11.79\n"
     ]
    }
   ],
   "source": [
    "test_loss3_3, test_acc3_3 = model3_3.evaluate(X_test,\n",
    "                                     y_test,\n",
    "                                     verbose=10)\n",
    "print('Test Accuracy is', \"{:.2f}\".format(test_acc3_3))\n",
    "print('Test Loss is',\"{:.2f}\".format(test_loss3_3))"
   ]
  },
  {
   "cell_type": "code",
   "execution_count": 89,
   "id": "olympic-thickness",
   "metadata": {},
   "outputs": [
    {
     "name": "stdout",
     "output_type": "stream",
     "text": [
      "Epoch 1/10\n",
      "16/16 [==============================] - 3s 186ms/step - loss: 25860.7363 - accuracy: 0.0912\n",
      "Epoch 2/10\n",
      "16/16 [==============================] - 3s 188ms/step - loss: 14.9914 - accuracy: 0.1013\n",
      "Epoch 3/10\n",
      "16/16 [==============================] - 3s 177ms/step - loss: 15.0857 - accuracy: 0.1064\n",
      "Epoch 4/10\n",
      "16/16 [==============================] - 3s 192ms/step - loss: 14.1647 - accuracy: 0.1013\n",
      "Epoch 5/10\n",
      "16/16 [==============================] - 3s 178ms/step - loss: 9.3385 - accuracy: 0.0902\n",
      "Epoch 6/10\n",
      "16/16 [==============================] - 3s 186ms/step - loss: 8.2383 - accuracy: 0.1165\n",
      "Epoch 7/10\n",
      "16/16 [==============================] - 3s 206ms/step - loss: 8.0054 - accuracy: 0.0790\n",
      "Epoch 8/10\n",
      "16/16 [==============================] - 3s 175ms/step - loss: 8.0509 - accuracy: 0.1216\n",
      "Epoch 9/10\n",
      "16/16 [==============================] - 3s 171ms/step - loss: 8.0859 - accuracy: 0.0892\n",
      "Epoch 10/10\n",
      "16/16 [==============================] - 3s 168ms/step - loss: 8.0416 - accuracy: 0.1125\n"
     ]
    }
   ],
   "source": [
    "model3_4 = Sequential() #Two Hidden Layers with loss = mse\n",
    "\n",
    "model3_4.add(Conv2D(256,(3,3), activation='relu', input_shape=(8, 8, 3))) #input layer\n",
    "model3_4.add(MaxPool2D((2, 2)))\n",
    "model3_4.add(Conv2D(512,(3,3), activation='relu')) #first hidden layer\n",
    "model3_4.add(MaxPool2D((1, 1)))\n",
    "model3_4.add(Flatten())\n",
    "model3_4.add(Dense(64,activation ='relu')) #second hidden layer\n",
    "model3_4.add(Dense(10, activation='relu')) #output layer\n",
    "learning_rate = 0.05\n",
    "model3_4.compile(optimizer=Adam(learning_rate),\n",
    "              loss='mse',\n",
    "              metrics=['accuracy'])\n",
    "fit = model3_4.fit(X_train, y_train, epochs=10, batch_size = 64)"
   ]
  },
  {
   "cell_type": "code",
   "execution_count": 90,
   "id": "distinct-table",
   "metadata": {},
   "outputs": [
    {
     "name": "stdout",
     "output_type": "stream",
     "text": [
      "Test Accuracy is 0.06\n",
      "Test Loss is 9.96\n"
     ]
    }
   ],
   "source": [
    "test_loss3_4, test_acc3_4 = model3_4.evaluate(X_test,\n",
    "                                     y_test,\n",
    "                                     verbose=10)\n",
    "print('Test Accuracy is', \"{:.2f}\".format(test_acc3_4))\n",
    "print('Test Loss is',\"{:.2f}\".format(test_loss3_4))"
   ]
  },
  {
   "cell_type": "code",
   "execution_count": 91,
   "id": "sorted-conspiracy",
   "metadata": {},
   "outputs": [
    {
     "name": "stdout",
     "output_type": "stream",
     "text": [
      "Epoch 1/10\n",
      "16/16 [==============================] - 3s 176ms/step - loss: 12.8972 - accuracy: 0.0871\n",
      "Epoch 2/10\n",
      "16/16 [==============================] - 3s 175ms/step - loss: 13.7248 - accuracy: 0.0912\n",
      "Epoch 3/10\n",
      "16/16 [==============================] - 3s 171ms/step - loss: 13.7248 - accuracy: 0.0912\n",
      "Epoch 4/10\n",
      "16/16 [==============================] - 3s 178ms/step - loss: 13.7248 - accuracy: 0.0912\n",
      "Epoch 5/10\n",
      "16/16 [==============================] - 3s 174ms/step - loss: 13.7248 - accuracy: 0.0912\n",
      "Epoch 6/10\n",
      "16/16 [==============================] - 3s 182ms/step - loss: 13.7248 - accuracy: 0.0912\n",
      "Epoch 7/10\n",
      "16/16 [==============================] - 3s 202ms/step - loss: 13.7248 - accuracy: 0.0912\n",
      "Epoch 8/10\n",
      "16/16 [==============================] - 3s 185ms/step - loss: 13.7248 - accuracy: 0.0912\n",
      "Epoch 9/10\n",
      "16/16 [==============================] - 3s 184ms/step - loss: 13.7248 - accuracy: 0.0912\n",
      "Epoch 10/10\n",
      "16/16 [==============================] - 3s 170ms/step - loss: 13.7248 - accuracy: 0.0912\n"
     ]
    }
   ],
   "source": [
    "model3_5 = Sequential() #Two Hidden Layers with optimizer SGD\n",
    "\n",
    "model3_5.add(Conv2D(256,(3,3), activation='relu', input_shape=(8, 8, 3))) #input layer\n",
    "model3_5.add(MaxPool2D((2, 2)))\n",
    "model3_5.add(Conv2D(512,(3,3), activation='relu')) #first hidden layer\n",
    "model3_5.add(MaxPool2D((1, 1)))\n",
    "model3_5.add(Flatten())\n",
    "model3_5.add(Dense(64,activation ='relu')) #second hidden layer\n",
    "model3_5.add(Dense(10, activation='relu')) #output layer\n",
    "learning_rate = 0.05\n",
    "model3_5.compile(optimizer=SGD(learning_rate),\n",
    "              loss='sparse_categorical_crossentropy',\n",
    "              metrics=['accuracy'])\n",
    "fit = model3_5.fit(X_train, y_train, epochs=10, batch_size = 64)"
   ]
  },
  {
   "cell_type": "code",
   "execution_count": 92,
   "id": "patent-tower",
   "metadata": {},
   "outputs": [
    {
     "name": "stdout",
     "output_type": "stream",
     "text": [
      "Test Accuracy is 0.14\n",
      "Test Loss is 13.59\n"
     ]
    }
   ],
   "source": [
    "test_loss3_5, test_acc3_5 = model3_5.evaluate(X_test,\n",
    "                                     y_test,\n",
    "                                     verbose=10)\n",
    "print('Test Accuracy is', \"{:.2f}\".format(test_acc3_5))\n",
    "print('Test Loss is',\"{:.2f}\".format(test_loss3_5))"
   ]
  },
  {
   "cell_type": "code",
   "execution_count": 93,
   "id": "outdoor-asthma",
   "metadata": {},
   "outputs": [
    {
     "name": "stdout",
     "output_type": "stream",
     "text": [
      "Epoch 1/10\n",
      "16/16 [==============================] - 3s 180ms/step - loss: 2.7673 - accuracy: 0.1114\n",
      "Epoch 2/10\n",
      "16/16 [==============================] - 3s 182ms/step - loss: 2.4289 - accuracy: 0.0871\n",
      "Epoch 3/10\n",
      "16/16 [==============================] - 3s 181ms/step - loss: 2.4072 - accuracy: 0.0932\n",
      "Epoch 4/10\n",
      "16/16 [==============================] - 3s 174ms/step - loss: 2.4088 - accuracy: 0.1013\n",
      "Epoch 5/10\n",
      "16/16 [==============================] - 3s 175ms/step - loss: 2.4162 - accuracy: 0.1023\n",
      "Epoch 6/10\n",
      "16/16 [==============================] - 3s 185ms/step - loss: 2.4270 - accuracy: 0.0861\n",
      "Epoch 7/10\n",
      "16/16 [==============================] - 3s 172ms/step - loss: 2.3865 - accuracy: 0.0851\n",
      "Epoch 8/10\n",
      "16/16 [==============================] - 3s 174ms/step - loss: 2.3950 - accuracy: 0.1013\n",
      "Epoch 9/10\n",
      "16/16 [==============================] - 3s 167ms/step - loss: 2.3990 - accuracy: 0.1094\n",
      "Epoch 10/10\n",
      "16/16 [==============================] - 3s 191ms/step - loss: 2.4070 - accuracy: 0.0892\n"
     ]
    }
   ],
   "source": [
    "model3_6 = Sequential() #Two Hidden Layers with sigmoid function\n",
    "\n",
    "model3_6.add(Conv2D(256,(3,3), activation='sigmoid', input_shape=(8, 8, 3))) #input layer\n",
    "model3_6.add(MaxPool2D((2, 2)))\n",
    "model3_6.add(Conv2D(512,(3,3), activation='sigmoid')) #first hidden layer\n",
    "model3_6.add(MaxPool2D((1, 1)))\n",
    "model3_6.add(Flatten())\n",
    "model3_6.add(Dense(64,activation ='sigmoid')) #second hidden layer\n",
    "model3_6.add(Dense(10, activation='sigmoid')) #output layer\n",
    "learning_rate = 0.05\n",
    "model3_6.compile(optimizer=Adam(learning_rate),\n",
    "              loss='sparse_categorical_crossentropy',\n",
    "              metrics=['accuracy'])\n",
    "fit = model3_6.fit(X_train, y_train, epochs=10, batch_size = 64)"
   ]
  },
  {
   "cell_type": "code",
   "execution_count": 94,
   "id": "partial-couple",
   "metadata": {},
   "outputs": [
    {
     "name": "stdout",
     "output_type": "stream",
     "text": [
      "Test Accuracy is 0.10\n",
      "Test Loss is 2.45\n"
     ]
    }
   ],
   "source": [
    "test_loss3_6, test_acc3_6 = model3_6.evaluate(X_test,\n",
    "                                     y_test,\n",
    "                                     verbose=10)\n",
    "print('Test Accuracy is', \"{:.2f}\".format(test_acc3_6))\n",
    "print('Test Loss is',\"{:.2f}\".format(test_loss3_6))"
   ]
  },
  {
   "cell_type": "code",
   "execution_count": 95,
   "id": "reverse-academy",
   "metadata": {},
   "outputs": [
    {
     "name": "stdout",
     "output_type": "stream",
     "text": [
      "Epoch 1/10\n",
      "16/16 [==============================] - 4s 206ms/step - loss: 13.7356 - accuracy: 0.0902\n",
      "Epoch 2/10\n",
      "16/16 [==============================] - 3s 214ms/step - loss: 14.5830 - accuracy: 0.0952\n",
      "Epoch 3/10\n",
      "16/16 [==============================] - 3s 187ms/step - loss: 14.5830 - accuracy: 0.0952\n",
      "Epoch 4/10\n",
      "16/16 [==============================] - 3s 185ms/step - loss: 14.5830 - accuracy: 0.0952\n",
      "Epoch 5/10\n",
      "16/16 [==============================] - 3s 188ms/step - loss: 14.5830 - accuracy: 0.0952\n",
      "Epoch 6/10\n",
      "16/16 [==============================] - 3s 198ms/step - loss: 14.5830 - accuracy: 0.0952\n",
      "Epoch 7/10\n",
      "16/16 [==============================] - 3s 190ms/step - loss: 14.5830 - accuracy: 0.0952\n",
      "Epoch 8/10\n",
      "16/16 [==============================] - 3s 182ms/step - loss: 14.5830 - accuracy: 0.0952\n",
      "Epoch 9/10\n",
      "16/16 [==============================] - 3s 182ms/step - loss: 14.5830 - accuracy: 0.0952\n",
      "Epoch 10/10\n",
      "16/16 [==============================] - 3s 168ms/step - loss: 14.5830 - accuracy: 0.0952\n"
     ]
    }
   ],
   "source": [
    "model3_7 = Sequential() #Two Hidden Layers with second hidden layer size 128\n",
    "\n",
    "model3_7.add(Conv2D(256,(3,3), activation='relu', input_shape=(8, 8, 3))) #input layer\n",
    "model3_7.add(MaxPool2D((2, 2)))\n",
    "model3_7.add(Conv2D(512,(3,3), activation='relu')) #first hidden layer\n",
    "model3_7.add(MaxPool2D((1, 1)))\n",
    "model3_7.add(Flatten())\n",
    "model3_7.add(Dense(128,activation ='relu')) #second hidden layer\n",
    "model3_7.add(Dense(10, activation='relu')) #output layer\n",
    "learning_rate = 0.05\n",
    "model3_7.compile(optimizer=Adam(learning_rate),\n",
    "              loss='sparse_categorical_crossentropy',\n",
    "              metrics=['accuracy'])\n",
    "fit = model3_7.fit(X_train, y_train, epochs=10, batch_size = 64)"
   ]
  },
  {
   "cell_type": "code",
   "execution_count": 96,
   "id": "aggressive-story",
   "metadata": {},
   "outputs": [
    {
     "name": "stdout",
     "output_type": "stream",
     "text": [
      "Test Accuracy is 0.10\n",
      "Test Loss is 14.51\n"
     ]
    }
   ],
   "source": [
    "test_loss3_7, test_acc3_7 = model3_7.evaluate(X_test,\n",
    "                                     y_test,\n",
    "                                     verbose=10)\n",
    "print('Test Accuracy is', \"{:.2f}\".format(test_acc3_7))\n",
    "print('Test Loss is',\"{:.2f}\".format(test_loss3_7))"
   ]
  },
  {
   "cell_type": "code",
   "execution_count": 97,
   "id": "interpreted-clause",
   "metadata": {},
   "outputs": [],
   "source": [
    "accuracy_list3 = []\n",
    "loss_list3 = []\n",
    "accuracy_list3.append(test_acc3_1)\n",
    "accuracy_list3.append(test_acc3_2)\n",
    "accuracy_list3.append(test_acc3_3)\n",
    "accuracy_list3.append(test_acc3_4)\n",
    "accuracy_list3.append(test_acc3_5)\n",
    "accuracy_list3.append(test_acc3_6)\n",
    "accuracy_list3.append(test_acc3_7)\n",
    "loss_list3.append(test_loss3_1)\n",
    "loss_list3.append(test_loss3_2)\n",
    "loss_list3.append(test_loss3_3)\n",
    "loss_list3.append(test_loss3_4)\n",
    "loss_list3.append(test_loss3_5)\n",
    "loss_list3.append(test_loss3_6)\n",
    "loss_list3.append(test_loss3_7)"
   ]
  },
  {
   "cell_type": "markdown",
   "id": "fuzzy-guest",
   "metadata": {},
   "source": [
    "## Results"
   ]
  },
  {
   "cell_type": "code",
   "execution_count": 98,
   "id": "simplified-operations",
   "metadata": {},
   "outputs": [
    {
     "data": {
      "image/png": "[encoded data removed]",
      "text/plain": [
       "<Figure size 432x288 with 1 Axes>"
      ]
     },
     "metadata": {
      "needs_background": "light"
     },
     "output_type": "display_data"
    }
   ],
   "source": [
    "x = range(0,7)\n",
    "y = accuracy_list3\n",
    "\n",
    "plt.plot(x, y,color='g')\n",
    "plt.xlabel('Modal')\n",
    "plt.ylabel('Accuracy')\n",
    "plt.title('Result of Models')\n",
    "plt.show()"
   ]
  },
  {
   "cell_type": "code",
   "execution_count": 99,
   "id": "proper-article",
   "metadata": {},
   "outputs": [
    {
     "data": {
      "image/png": "[encoded data removed]",
      "text/plain": [
       "<Figure size 432x288 with 1 Axes>"
      ]
     },
     "metadata": {
      "needs_background": "light"
     },
     "output_type": "display_data"
    }
   ],
   "source": [
    "x = range(0,7)\n",
    "y = loss_list3\n",
    "\n",
    "plt.plot(x, y,color='r')\n",
    "plt.xlabel('Modal')\n",
    "plt.ylabel('Loss')\n",
    "plt.title('Result of Models')\n",
    "plt.show()"
   ]
  },
  {
   "cell_type": "markdown",
   "id": "worthy-civilian",
   "metadata": {},
   "source": [
    "## 4) One Convolutional Layer and One Fully Connected Layer"
   ]
  },
  {
   "cell_type": "code",
   "execution_count": 100,
   "id": "sensitive-benjamin",
   "metadata": {},
   "outputs": [
    {
     "name": "stdout",
     "output_type": "stream",
     "text": [
      "Epoch 1/10\n",
      "16/16 [==============================] - 3s 169ms/step - loss: 12.8625 - accuracy: 0.0993\n",
      "Epoch 2/10\n",
      "16/16 [==============================] - 3s 180ms/step - loss: 13.3019 - accuracy: 0.0963\n",
      "Epoch 3/10\n",
      "16/16 [==============================] - 3s 177ms/step - loss: 13.2786 - accuracy: 0.0963\n",
      "Epoch 4/10\n",
      "16/16 [==============================] - 3s 207ms/step - loss: 13.2995 - accuracy: 0.0963\n",
      "Epoch 5/10\n",
      "16/16 [==============================] - 3s 206ms/step - loss: 13.2673 - accuracy: 0.0963\n",
      "Epoch 6/10\n",
      "16/16 [==============================] - 3s 183ms/step - loss: 13.2852 - accuracy: 0.0963\n",
      "Epoch 7/10\n",
      "16/16 [==============================] - 3s 196ms/step - loss: 13.2623 - accuracy: 0.0963\n",
      "Epoch 8/10\n",
      "16/16 [==============================] - 3s 190ms/step - loss: 13.2827 - accuracy: 0.0963\n",
      "Epoch 9/10\n",
      "16/16 [==============================] - 4s 226ms/step - loss: 13.2737 - accuracy: 0.0963\n",
      "Epoch 10/10\n",
      "16/16 [==============================] - 3s 198ms/step - loss: 13.5321 - accuracy: 0.0963\n"
     ]
    }
   ],
   "source": [
    "model4_1 = Sequential() #one conv layer and one fully layer with 1 hidden layer\n",
    "\n",
    "model4_1.add(Conv2D(256,(3,3), activation='relu', input_shape=(8, 8, 3))) #convolutional layer\n",
    "model4_1.add(MaxPool2D((2, 2)))\n",
    "model4_1.add(Conv2D(512,(3,3), activation='relu')) #one hidden layer\n",
    "model4_1.add(MaxPool2D((1, 1)))\n",
    "model4_1.add(Flatten())\n",
    "model4_1.add(Dense(10, activation='relu')) #fully connected layer\n",
    "model4_1.compile(optimizer='adam',\n",
    "              loss='sparse_categorical_crossentropy',\n",
    "              metrics=['accuracy'])\n",
    "fit = model4_1.fit(X_train, y_train, epochs=10, batch_size = 64)"
   ]
  },
  {
   "cell_type": "code",
   "execution_count": 101,
   "id": "guided-murray",
   "metadata": {},
   "outputs": [
    {
     "name": "stdout",
     "output_type": "stream",
     "text": [
      "Test Accuracy is 0.10\n",
      "Test Loss is 13.42\n"
     ]
    }
   ],
   "source": [
    "test_loss4_1, test_acc4_1 = model4_1.evaluate(X_test,\n",
    "                                     y_test,\n",
    "                                     verbose=10)\n",
    "print('Test Accuracy is', \"{:.2f}\".format(test_acc4_1))\n",
    "print('Test Loss is',\"{:.2f}\".format(test_loss4_1))"
   ]
  },
  {
   "cell_type": "code",
   "execution_count": 102,
   "id": "quantitative-wallace",
   "metadata": {},
   "outputs": [
    {
     "name": "stdout",
     "output_type": "stream",
     "text": [
      "Epoch 1/10\n",
      "16/16 [==============================] - 4s 191ms/step - loss: 9.4563 - accuracy: 0.0939\n",
      "Epoch 2/10\n",
      "16/16 [==============================] - 3s 215ms/step - loss: 8.9671 - accuracy: 0.0938\n",
      "Epoch 3/10\n",
      "16/16 [==============================] - 3s 197ms/step - loss: 6.5638 - accuracy: 0.1003\n",
      "Epoch 4/10\n",
      "16/16 [==============================] - 4s 227ms/step - loss: 6.0792 - accuracy: 0.1001\n",
      "Epoch 5/10\n",
      "16/16 [==============================] - 3s 205ms/step - loss: 2.3380 - accuracy: 0.0898\n",
      "Epoch 6/10\n",
      "16/16 [==============================] - 3s 193ms/step - loss: 2.3026 - accuracy: 0.0909\n",
      "Epoch 7/10\n",
      "16/16 [==============================] - 3s 181ms/step - loss: 2.3089 - accuracy: 0.0913\n",
      "Epoch 8/10\n",
      "16/16 [==============================] - 3s 192ms/step - loss: 2.3026 - accuracy: 0.0909\n",
      "Epoch 9/10\n",
      "16/16 [==============================] - 3s 191ms/step - loss: 2.3097 - accuracy: 0.0903\n",
      "Epoch 10/10\n",
      "16/16 [==============================] - 3s 182ms/step - loss: 2.3026 - accuracy: 0.0909\n"
     ]
    }
   ],
   "source": [
    "model4_2 = Sequential() #one conv layer and one fully layer with 2 hidden layer\n",
    "model4_2.add(Conv2D(256,(3,3), activation='relu', input_shape=(8, 8, 3))) #convolutional layer\n",
    "model4_2.add(MaxPool2D((2, 2)))\n",
    "model4_2.add(Conv2D(512,(3,3), activation='relu')) #first hidden layer\n",
    "model4_2.add(MaxPool2D((1, 1)))\n",
    "model4_2.add(Dense(64, activation='relu')) # second hidden layer\n",
    "model4_2.add(Dense(10, activation='relu')) #fully connected layer\n",
    "model4_2.compile(optimizer='adam',\n",
    "              loss='sparse_categorical_crossentropy',\n",
    "              metrics=['accuracy'])\n",
    "fit = model4_2.fit(X_train, y_train, epochs=10, batch_size = 64)"
   ]
  },
  {
   "cell_type": "code",
   "execution_count": 103,
   "id": "missing-assist",
   "metadata": {},
   "outputs": [
    {
     "name": "stdout",
     "output_type": "stream",
     "text": [
      "Test Accuracy is 0.14\n",
      "Test Loss is 2.30\n"
     ]
    }
   ],
   "source": [
    "test_loss4_2, test_acc4_2 = model4_2.evaluate(X_test,\n",
    "                                     y_test,\n",
    "                                     verbose=10)\n",
    "print('Test Accuracy is', \"{:.2f}\".format(test_acc4_2))\n",
    "print('Test Loss is',\"{:.2f}\".format(test_loss4_2))"
   ]
  },
  {
   "cell_type": "code",
   "execution_count": 104,
   "id": "scenic-native",
   "metadata": {},
   "outputs": [
    {
     "name": "stdout",
     "output_type": "stream",
     "text": [
      "Epoch 1/10\n",
      "16/16 [==============================] - 4s 224ms/step - loss: 6.9088 - accuracy: 0.1651\n",
      "Epoch 2/10\n",
      "16/16 [==============================] - 3s 180ms/step - loss: 5.6724 - accuracy: 0.1611\n",
      "Epoch 3/10\n",
      "16/16 [==============================] - 3s 206ms/step - loss: 5.0623 - accuracy: 0.1631\n",
      "Epoch 4/10\n",
      "16/16 [==============================] - 3s 208ms/step - loss: 4.5658 - accuracy: 0.1925\n",
      "Epoch 5/10\n",
      "16/16 [==============================] - 3s 191ms/step - loss: 4.3717 - accuracy: 0.2199\n",
      "Epoch 6/10\n",
      "16/16 [==============================] - 3s 184ms/step - loss: 4.2104 - accuracy: 0.2573\n",
      "Epoch 7/10\n",
      "16/16 [==============================] - 3s 182ms/step - loss: 3.8669 - accuracy: 0.2979\n",
      "Epoch 8/10\n",
      "16/16 [==============================] - 3s 201ms/step - loss: 3.6038 - accuracy: 0.2938\n",
      "Epoch 9/10\n",
      "16/16 [==============================] - 3s 202ms/step - loss: 3.2643 - accuracy: 0.2685\n",
      "Epoch 10/10\n",
      "16/16 [==============================] - 3s 176ms/step - loss: 3.0002 - accuracy: 0.3090\n"
     ]
    }
   ],
   "source": [
    "model4_3 = Sequential() #one conv layer and one fully layer with 3 hidden layer\n",
    "model4_3.add(Conv2D(256, 3, activation='relu', input_shape=(8, 8, 3))) #convolutional layer\n",
    "model4_3.add(MaxPool2D((2, 2)))\n",
    "model4_3.add(Conv2D(512,(3,3), activation='relu')) #first hidden layer\n",
    "model4_3.add(MaxPool2D((1, 1)))\n",
    "model4_3.add(BatchNormalization()) #second hidden layer\n",
    "model4_3.add(Flatten()) \n",
    "model4_3.add(Dense(64,activation='relu')) #third hidden layer\n",
    "model4_3.add(Dense(10,activation='relu')) #fully connected layer\n",
    "model4_3.compile(optimizer='adam',\n",
    "              loss='sparse_categorical_crossentropy',\n",
    "              metrics=['accuracy'])\n",
    "fit = model4_3.fit(X_train, y_train, epochs=10, batch_size = 64)"
   ]
  },
  {
   "cell_type": "code",
   "execution_count": 105,
   "id": "previous-makeup",
   "metadata": {},
   "outputs": [
    {
     "name": "stdout",
     "output_type": "stream",
     "text": [
      "Test Accuracy is 0.28\n",
      "Test Loss is 3.53\n"
     ]
    }
   ],
   "source": [
    "test_loss4_3, test_acc4_3 = model4_3.evaluate(X_test,\n",
    "                                     y_test,\n",
    "                                     verbose=10)\n",
    "print('Test Accuracy is', \"{:.2f}\".format(test_acc4_3))\n",
    "print('Test Loss is',\"{:.2f}\".format(test_loss4_3))"
   ]
  },
  {
   "cell_type": "code",
   "execution_count": 106,
   "id": "smart-killing",
   "metadata": {},
   "outputs": [],
   "source": [
    "accuracy_list4 = []\n",
    "loss_list4 = []\n",
    "accuracy_list4.append(test_acc4_1)\n",
    "accuracy_list4.append(test_acc4_2)\n",
    "accuracy_list4.append(test_acc4_3)\n",
    "loss_list4.append(test_loss4_1)\n",
    "loss_list4.append(test_loss4_2)\n",
    "loss_list4.append(test_loss4_3)"
   ]
  },
  {
   "cell_type": "markdown",
   "id": "systematic-trauma",
   "metadata": {},
   "source": [
    "## Results"
   ]
  },
  {
   "cell_type": "code",
   "execution_count": 107,
   "id": "figured-conversation",
   "metadata": {},
   "outputs": [
    {
     "data": {
      "image/png": "[encoded data removed]",
      "text/plain": [
       "<Figure size 432x288 with 1 Axes>"
      ]
     },
     "metadata": {
      "needs_background": "light"
     },
     "output_type": "display_data"
    }
   ],
   "source": [
    "x = range(0,3)\n",
    "y = accuracy_list4\n",
    "\n",
    "plt.plot(x, y,color='g')\n",
    "plt.xlabel('Modal')\n",
    "plt.ylabel('Accuracy')\n",
    "plt.title('Result of Models')\n",
    "plt.show()"
   ]
  },
  {
   "cell_type": "code",
   "execution_count": 108,
   "id": "attached-phoenix",
   "metadata": {},
   "outputs": [
    {
     "data": {
      "image/png": "[encoded data removed]",
      "text/plain": [
       "<Figure size 432x288 with 1 Axes>"
      ]
     },
     "metadata": {
      "needs_background": "light"
     },
     "output_type": "display_data"
    }
   ],
   "source": [
    "x = range(0,3)\n",
    "y = loss_list4\n",
    "\n",
    "plt.plot(x, y,color='r')\n",
    "plt.xlabel('Modal')\n",
    "plt.ylabel('Loss')\n",
    "plt.title('Result of Models')\n",
    "plt.show()"
   ]
  },
  {
   "cell_type": "markdown",
   "id": "regulated-insertion",
   "metadata": {},
   "source": [
    "### Number of Hidden Layers"
   ]
  },
  {
   "cell_type": "markdown",
   "id": "classical-combining",
   "metadata": {},
   "source": [
    "| 1 HL | 2 HL | 3 HL | \n",
    "| --- | --- | --- |\n",
    "| 10 | 14 | 28 |"
   ]
  },
  {
   "cell_type": "markdown",
   "id": "critical-peter",
   "metadata": {},
   "source": [
    "More hidden layer, get more accuracy."
   ]
  },
  {
   "cell_type": "markdown",
   "id": "engaging-system",
   "metadata": {},
   "source": [
    "## 5) Two Convolutional Layer and Two Fully Connected Layer "
   ]
  },
  {
   "cell_type": "code",
   "execution_count": 109,
   "id": "white-entrepreneur",
   "metadata": {},
   "outputs": [
    {
     "name": "stdout",
     "output_type": "stream",
     "text": [
      "Epoch 1/10\n",
      "16/16 [==============================] - 3s 188ms/step - loss: 10.2399 - accuracy: 0.1023\n",
      "Epoch 2/10\n",
      "16/16 [==============================] - 3s 198ms/step - loss: 9.0456 - accuracy: 0.1196\n",
      "Epoch 3/10\n",
      "16/16 [==============================] - 3s 191ms/step - loss: 7.2242 - accuracy: 0.1266\n",
      "Epoch 4/10\n",
      "16/16 [==============================] - 3s 207ms/step - loss: 7.2122 - accuracy: 0.1358\n",
      "Epoch 5/10\n",
      "16/16 [==============================] - 3s 185ms/step - loss: 7.1120 - accuracy: 0.1327\n",
      "Epoch 6/10\n",
      "16/16 [==============================] - 3s 187ms/step - loss: 7.7616 - accuracy: 0.1834\n",
      "Epoch 7/10\n",
      "16/16 [==============================] - 3s 187ms/step - loss: 6.6354 - accuracy: 0.0932\n",
      "Epoch 8/10\n",
      "16/16 [==============================] - 4s 218ms/step - loss: 2.3183 - accuracy: 0.0912\n",
      "Epoch 9/10\n",
      "16/16 [==============================] - 3s 186ms/step - loss: 2.3026 - accuracy: 0.0912\n",
      "Epoch 10/10\n",
      "16/16 [==============================] - 3s 177ms/step - loss: 2.3026 - accuracy: 0.0912\n"
     ]
    }
   ],
   "source": [
    "model5_1 = Sequential() #two conv layer and two fully layer\n",
    "model5_1.add(Conv2D(256, 3, activation='relu', input_shape=(8, 8, 3))) #first convolutional\n",
    "model5_1.add(MaxPool2D((2, 2))) \n",
    "model5_1.add(Conv2D(512, 3, activation='relu')) #second convolutional\n",
    "model5_1.add(MaxPool2D((1, 1)))\n",
    "model5_1.add(Flatten()) \n",
    "model5_1.add(Dense(64,activation='relu')) #first fully connected\n",
    "model5_1.add(Dense(10,activation='relu')) #second fully connected\n",
    "model5_1.compile(optimizer='adam',\n",
    "              loss='sparse_categorical_crossentropy',\n",
    "              metrics=['accuracy'])\n",
    "fit = model5_1.fit(X_train, y_train, epochs=10, batch_size = 64)"
   ]
  },
  {
   "cell_type": "code",
   "execution_count": 110,
   "id": "according-banks",
   "metadata": {},
   "outputs": [
    {
     "name": "stdout",
     "output_type": "stream",
     "text": [
      "Test Accuracy is 0.14\n",
      "Test Loss is 2.30\n"
     ]
    }
   ],
   "source": [
    "test_loss5_1, test_acc5_1 = model5_1.evaluate(X_test,\n",
    "                                     y_test,\n",
    "                                     verbose=10)\n",
    "print('Test Accuracy is', \"{:.2f}\".format(test_acc5_1))\n",
    "print('Test Loss is',\"{:.2f}\".format(test_loss5_1))"
   ]
  },
  {
   "cell_type": "code",
   "execution_count": 111,
   "id": "square-colony",
   "metadata": {},
   "outputs": [
    {
     "name": "stdout",
     "output_type": "stream",
     "text": [
      "Epoch 1/10\n",
      "16/16 [==============================] - 1s 36ms/step - loss: 5.2523 - accuracy: 0.1013\n",
      "Epoch 2/10\n",
      "16/16 [==============================] - 1s 36ms/step - loss: 4.5215 - accuracy: 0.1003\n",
      "Epoch 3/10\n",
      "16/16 [==============================] - 1s 39ms/step - loss: 3.7093 - accuracy: 0.1044\n",
      "Epoch 4/10\n",
      "16/16 [==============================] - 1s 39ms/step - loss: 3.5941 - accuracy: 0.1439\n",
      "Epoch 5/10\n",
      "16/16 [==============================] - 1s 44ms/step - loss: 3.4732 - accuracy: 0.1662\n",
      "Epoch 6/10\n",
      "16/16 [==============================] - 1s 51ms/step - loss: 3.5161 - accuracy: 0.3222\n",
      "Epoch 7/10\n",
      "16/16 [==============================] - 1s 58ms/step - loss: 3.6727 - accuracy: 0.1591\n",
      "Epoch 8/10\n",
      "16/16 [==============================] - 1s 44ms/step - loss: 3.6737 - accuracy: 0.0952\n",
      "Epoch 9/10\n",
      "16/16 [==============================] - 1s 36ms/step - loss: 3.5529 - accuracy: 0.1429\n",
      "Epoch 10/10\n",
      "16/16 [==============================] - 1s 36ms/step - loss: 2.5188 - accuracy: 0.2199\n"
     ]
    }
   ],
   "source": [
    "model5_2 = Sequential() #conv layer sizes changed\n",
    "model5_2.add(Conv2D(128, 3, activation='relu', input_shape=(8, 8, 3))) #first convolutional\n",
    "model5_2.add(MaxPool2D((2, 2))) \n",
    "model5_2.add(Conv2D(256, 3, activation='relu')) #second convolutional\n",
    "model5_2.add(MaxPool2D((1, 1)))\n",
    "model5_2.add(Flatten()) \n",
    "model5_2.add(Dense(64,activation='relu')) #first fully connected\n",
    "model5_2.add(Dense(10,activation='relu')) #second fully connected\n",
    "model5_2.compile(optimizer='adam',\n",
    "              loss='sparse_categorical_crossentropy',\n",
    "              metrics=['accuracy'])\n",
    "fit = model5_2.fit(X_train, y_train, epochs=10, batch_size = 64)"
   ]
  },
  {
   "cell_type": "code",
   "execution_count": 112,
   "id": "essential-ethiopia",
   "metadata": {},
   "outputs": [
    {
     "name": "stdout",
     "output_type": "stream",
     "text": [
      "Test Accuracy is 0.15\n",
      "Test Loss is 2.33\n"
     ]
    }
   ],
   "source": [
    "test_loss5_2, test_acc5_2 = model5_2.evaluate(X_test,\n",
    "                                     y_test,\n",
    "                                     verbose=10)\n",
    "print('Test Accuracy is', \"{:.2f}\".format(test_acc5_2))\n",
    "print('Test Loss is',\"{:.2f}\".format(test_loss5_2))"
   ]
  },
  {
   "cell_type": "code",
   "execution_count": 113,
   "id": "mysterious-perception",
   "metadata": {},
   "outputs": [
    {
     "name": "stdout",
     "output_type": "stream",
     "text": [
      "Epoch 1/10\n",
      "8/8 [==============================] - 1s 78ms/step - loss: 5.5627 - accuracy: 0.0932\n",
      "Epoch 2/10\n",
      "8/8 [==============================] - 1s 73ms/step - loss: 2.4814 - accuracy: 0.1206\n",
      "Epoch 3/10\n",
      "8/8 [==============================] - 1s 80ms/step - loss: 2.3056 - accuracy: 0.1135\n",
      "Epoch 4/10\n",
      "8/8 [==============================] - 1s 76ms/step - loss: 2.2941 - accuracy: 0.1388\n",
      "Epoch 5/10\n",
      "8/8 [==============================] - 1s 71ms/step - loss: 2.2858 - accuracy: 0.1226\n",
      "Epoch 6/10\n",
      "8/8 [==============================] - 1s 83ms/step - loss: 2.2768 - accuracy: 0.1520\n",
      "Epoch 7/10\n",
      "8/8 [==============================] - 1s 74ms/step - loss: 2.2629 - accuracy: 0.1611\n",
      "Epoch 8/10\n",
      "8/8 [==============================] - 1s 78ms/step - loss: 2.2436 - accuracy: 0.1337\n",
      "Epoch 9/10\n",
      "8/8 [==============================] - 1s 75ms/step - loss: 2.2037 - accuracy: 0.1114\n",
      "Epoch 10/10\n",
      "8/8 [==============================] - 1s 73ms/step - loss: 2.1354 - accuracy: 0.1530\n"
     ]
    }
   ],
   "source": [
    "model5_3 = Sequential() #fully layer sizes changed\n",
    "model5_3.add(Conv2D(128, 3, activation='relu', input_shape=(8, 8, 3))) #first convolutional\n",
    "model5_3.add(MaxPool2D((2, 2))) \n",
    "model5_3.add(Conv2D(256, 3, activation='relu')) #second convolutional\n",
    "model5_3.add(MaxPool2D((1, 1)))\n",
    "model5_3.add(Flatten()) \n",
    "model5_3.add(Dense(128,activation='relu')) #first fully connected\n",
    "model5_3.add(Dense(10,activation='relu')) #second fully connected\n",
    "model5_3.compile(optimizer='adam',\n",
    "              loss='sparse_categorical_crossentropy',\n",
    "              metrics=['accuracy'])\n",
    "fit = model5_3.fit(X_train, y_train, epochs=10, batch_size = 128)"
   ]
  },
  {
   "cell_type": "code",
   "execution_count": 114,
   "id": "extraordinary-lobby",
   "metadata": {},
   "outputs": [
    {
     "name": "stdout",
     "output_type": "stream",
     "text": [
      "Test Accuracy is 0.27\n",
      "Test Loss is 2.33\n"
     ]
    }
   ],
   "source": [
    "test_loss5_3, test_acc5_3 = model5_3.evaluate(X_test,\n",
    "                                     y_test,\n",
    "                                     verbose=10)\n",
    "print('Test Accuracy is', \"{:.2f}\".format(test_acc5_3))\n",
    "print('Test Loss is',\"{:.2f}\".format(test_loss5_3))"
   ]
  },
  {
   "cell_type": "code",
   "execution_count": 115,
   "id": "injured-liquid",
   "metadata": {},
   "outputs": [],
   "source": [
    "accuracy_list5 = []\n",
    "loss_list5 = []\n",
    "accuracy_list5.append(test_acc5_1)\n",
    "accuracy_list5.append(test_acc5_2)\n",
    "accuracy_list5.append(test_acc5_3)\n",
    "loss_list5.append(test_loss5_1)\n",
    "loss_list5.append(test_loss5_2)\n",
    "loss_list5.append(test_loss5_3)"
   ]
  },
  {
   "cell_type": "markdown",
   "id": "personal-commons",
   "metadata": {},
   "source": [
    "## Results"
   ]
  },
  {
   "cell_type": "code",
   "execution_count": 116,
   "id": "contrary-scene",
   "metadata": {},
   "outputs": [
    {
     "data": {
      "image/png": "[encoded data removed]",
      "text/plain": [
       "<Figure size 432x288 with 1 Axes>"
      ]
     },
     "metadata": {
      "needs_background": "light"
     },
     "output_type": "display_data"
    }
   ],
   "source": [
    "x = range(0,3)\n",
    "y = accuracy_list5\n",
    "\n",
    "plt.plot(x, y,color='g')\n",
    "plt.xlabel('Modal')\n",
    "plt.ylabel('Accuracy')\n",
    "plt.title('Result of Models')\n",
    "plt.show()"
   ]
  },
  {
   "cell_type": "code",
   "execution_count": 117,
   "id": "eleven-delta",
   "metadata": {},
   "outputs": [
    {
     "data": {
      "image/png": "[encoded data removed]",
      "text/plain": [
       "<Figure size 432x288 with 1 Axes>"
      ]
     },
     "metadata": {
      "needs_background": "light"
     },
     "output_type": "display_data"
    }
   ],
   "source": [
    "x = range(0,3)\n",
    "y = loss_list5\n",
    "\n",
    "plt.plot(x, y,color='r')\n",
    "plt.xlabel('Modal')\n",
    "plt.ylabel('Loss')\n",
    "plt.title('Result of Models')\n",
    "plt.show()"
   ]
  },
  {
   "cell_type": "markdown",
   "id": "logical-consortium",
   "metadata": {},
   "source": [
    "### Convolutional Layer and Fully Connected Layer Size"
   ]
  },
  {
   "cell_type": "markdown",
   "id": "constitutional-serve",
   "metadata": {},
   "source": [
    "| Low FCS && Big CLS | Low FCS && Low CLS  | Big FCS && Low CLS\n",
    "| --- | --- | --- |\n",
    "| 14 | 15 | 27 |"
   ]
  }
 ],
 "metadata": {
  "kernelspec": {
   "display_name": "Python 3",
   "language": "python",
   "name": "python3"
  },
  "language_info": {
   "codemirror_mode": {
    "name": "ipython",
    "version": 3
   },
   "file_extension": ".py",
   "mimetype": "text/x-python",
   "name": "python",
   "nbconvert_exporter": "python",
   "pygments_lexer": "ipython3",
   "version": "3.8.8"
  }
 },
 "nbformat": 4,
 "nbformat_minor": 5
}
